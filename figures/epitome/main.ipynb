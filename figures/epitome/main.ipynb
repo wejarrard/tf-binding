{
 "cells": [
  {
   "cell_type": "code",
   "execution_count": 2,
   "metadata": {},
   "outputs": [
    {
     "name": "stdout",
     "output_type": "stream",
     "text": [
      "Warning: genome assembly was not set in EpitomeDataset. Defaulting assembly to hg19.\n"
     ]
    }
   ],
   "source": [
    "targets = ['FOXA1']\n",
    "# celltypes = ['K562', 'A549', 'GM12878']\n",
    "\n",
    "dataset = EpitomeDataset(targets=targets, similarity_targets =['DNase'])"
   ]
  },
  {
   "cell_type": "code",
   "execution_count": 3,
   "metadata": {},
   "outputs": [
    {
     "name": "stdout",
     "output_type": "stream",
     "text": [
      "(8, 135264)\n",
      "using ['MCF-7', 'HepG2', 'HEK293T'] as labels for mode Dataset.TRAIN\n",
      "WARNING:tensorflow:From /opt/homebrew/Caskroom/miniconda/base/envs/EpitomeEnv/lib/python3.12/site-packages/epitome/generators.py:303: calling DatasetV2.from_generator (from tensorflow.python.data.ops.dataset_ops) with output_types is deprecated and will be removed in a future version.\n",
      "Instructions for updating:\n",
      "Use output_signature instead\n",
      "WARNING:tensorflow:From /opt/homebrew/Caskroom/miniconda/base/envs/EpitomeEnv/lib/python3.12/site-packages/epitome/generators.py:303: calling DatasetV2.from_generator (from tensorflow.python.data.ops.dataset_ops) with output_shapes is deprecated and will be removed in a future version.\n",
      "Instructions for updating:\n",
      "Use output_signature instead\n",
      "using ['MCF-7', 'HepG2', 'HEK293T'] as labels for mode Dataset.TRAIN\n",
      "using ['MCF-7', 'HepG2', 'HEK293T'] as labels for mode Dataset.VALID\n",
      "using ['K562'] as labels for mode Dataset.TEST\n"
     ]
    }
   ],
   "source": [
    "model = EpitomeModel(dataset,\n",
    "        test_celltypes = [\"K562\"], # cell line reserved for testing\n",
    "        max_valid_batches = 1000)"
   ]
  },
  {
   "cell_type": "code",
   "execution_count": 4,
   "metadata": {},
   "outputs": [
    {
     "name": "stdout",
     "output_type": "stream",
     "text": [
      "INFO:tensorflow:Starting Training\n"
     ]
    },
    {
     "ename": "AttributeError",
     "evalue": "in user code:\n\n    File \"/opt/homebrew/Caskroom/miniconda/base/envs/EpitomeEnv/lib/python3.12/site-packages/epitome/models.py\", line 274, in train_step  *\n        self.optimizer.apply_gradients(zip(gradients, self.model.trainable_variables))\n\n    AttributeError: 'Variable' object has no attribute '_in_graph_mode'\n",
     "output_type": "error",
     "traceback": [
      "\u001b[0;31m---------------------------------------------------------------------------\u001b[0m",
      "\u001b[0;31mAttributeError\u001b[0m                            Traceback (most recent call last)",
      "Cell \u001b[0;32mIn[4], line 1\u001b[0m\n\u001b[0;32m----> 1\u001b[0m best_model_batches, total_trained_batches, train_valid_losses \u001b[38;5;241m=\u001b[39m \u001b[43mmodel\u001b[49m\u001b[38;5;241;43m.\u001b[39;49m\u001b[43mtrain\u001b[49m\u001b[43m(\u001b[49m\u001b[38;5;241;43m5000\u001b[39;49m\u001b[43m,\u001b[49m\n\u001b[1;32m      2\u001b[0m \u001b[43m        \u001b[49m\u001b[43mpatience\u001b[49m\u001b[43m \u001b[49m\u001b[38;5;241;43m=\u001b[39;49m\u001b[43m \u001b[49m\u001b[38;5;241;43m3\u001b[39;49m\u001b[43m,\u001b[49m\n\u001b[1;32m      3\u001b[0m \u001b[43m        \u001b[49m\u001b[43mmin_delta\u001b[49m\u001b[43m \u001b[49m\u001b[38;5;241;43m=\u001b[39;49m\u001b[43m \u001b[49m\u001b[38;5;241;43m0.01\u001b[39;49m\u001b[43m)\u001b[49m\n",
      "File \u001b[0;32m/opt/homebrew/Caskroom/miniconda/base/envs/EpitomeEnv/lib/python3.12/site-packages/epitome/models.py:332\u001b[0m, in \u001b[0;36mPeakModel.train\u001b[0;34m(self, max_train_batches, patience, min_delta)\u001b[0m\n\u001b[1;32m    328\u001b[0m             \u001b[38;5;28;01mbreak\u001b[39;00m\n\u001b[1;32m    330\u001b[0m     \u001b[38;5;28;01mreturn\u001b[39;00m best_model_batches, max_train_batches, train_valid_losses\n\u001b[0;32m--> 332\u001b[0m \u001b[38;5;28;01mreturn\u001b[39;00m \u001b[43mloopiter\u001b[49m\u001b[43m(\u001b[49m\u001b[43m)\u001b[49m\n",
      "File \u001b[0;32m/opt/homebrew/Caskroom/miniconda/base/envs/EpitomeEnv/lib/python3.12/site-packages/epitome/models.py:293\u001b[0m, in \u001b[0;36mPeakModel.train.<locals>.loopiter\u001b[0;34m()\u001b[0m\n\u001b[1;32m    290\u001b[0m train_valid_losses \u001b[38;5;241m=\u001b[39m []\n\u001b[1;32m    292\u001b[0m \u001b[38;5;28;01mfor\u001b[39;00m current_batch, f \u001b[38;5;129;01min\u001b[39;00m \u001b[38;5;28menumerate\u001b[39m(\u001b[38;5;28mself\u001b[39m\u001b[38;5;241m.\u001b[39mtrain_iter):\n\u001b[0;32m--> 293\u001b[0m     loss \u001b[38;5;241m=\u001b[39m \u001b[43mtrain_step\u001b[49m\u001b[43m(\u001b[49m\u001b[43mf\u001b[49m\u001b[43m)\u001b[49m\n\u001b[1;32m    295\u001b[0m     \u001b[38;5;28;01mif\u001b[39;00m current_batch \u001b[38;5;241m%\u001b[39m \u001b[38;5;241m1000\u001b[39m \u001b[38;5;241m==\u001b[39m \u001b[38;5;241m0\u001b[39m:\n\u001b[1;32m    296\u001b[0m       tf\u001b[38;5;241m.\u001b[39mprint(\u001b[38;5;124m\"\u001b[39m\u001b[38;5;124mBatch: \u001b[39m\u001b[38;5;124m\"\u001b[39m, current_batch)\n",
      "File \u001b[0;32m/opt/homebrew/Caskroom/miniconda/base/envs/EpitomeEnv/lib/python3.12/site-packages/tensorflow/python/util/traceback_utils.py:153\u001b[0m, in \u001b[0;36mfilter_traceback.<locals>.error_handler\u001b[0;34m(*args, **kwargs)\u001b[0m\n\u001b[1;32m    151\u001b[0m \u001b[38;5;28;01mexcept\u001b[39;00m \u001b[38;5;167;01mException\u001b[39;00m \u001b[38;5;28;01mas\u001b[39;00m e:\n\u001b[1;32m    152\u001b[0m   filtered_tb \u001b[38;5;241m=\u001b[39m _process_traceback_frames(e\u001b[38;5;241m.\u001b[39m__traceback__)\n\u001b[0;32m--> 153\u001b[0m   \u001b[38;5;28;01mraise\u001b[39;00m e\u001b[38;5;241m.\u001b[39mwith_traceback(filtered_tb) \u001b[38;5;28;01mfrom\u001b[39;00m \u001b[38;5;28;01mNone\u001b[39;00m\n\u001b[1;32m    154\u001b[0m \u001b[38;5;28;01mfinally\u001b[39;00m:\n\u001b[1;32m    155\u001b[0m   \u001b[38;5;28;01mdel\u001b[39;00m filtered_tb\n",
      "File \u001b[0;32m/var/folders/0m/90sjqm9d78l50t2x2lmdrztm0000gn/T/__autograph_generated_filealkx2ktb.py:18\u001b[0m, in \u001b[0;36mouter_factory.<locals>.inner_factory.<locals>.tf__train_step\u001b[0;34m(f)\u001b[0m\n\u001b[1;32m     16\u001b[0m     loss \u001b[38;5;241m=\u001b[39m ag__\u001b[38;5;241m.\u001b[39mconverted_call(ag__\u001b[38;5;241m.\u001b[39mld(\u001b[38;5;28mself\u001b[39m)\u001b[38;5;241m.\u001b[39mloss_fn, (ag__\u001b[38;5;241m.\u001b[39mld(labels), ag__\u001b[38;5;241m.\u001b[39mld(logits), ag__\u001b[38;5;241m.\u001b[39mld(weights)), \u001b[38;5;28;01mNone\u001b[39;00m, fscope)\n\u001b[1;32m     17\u001b[0m gradients \u001b[38;5;241m=\u001b[39m ag__\u001b[38;5;241m.\u001b[39mconverted_call(ag__\u001b[38;5;241m.\u001b[39mld(tape)\u001b[38;5;241m.\u001b[39mgradient, (ag__\u001b[38;5;241m.\u001b[39mld(loss), ag__\u001b[38;5;241m.\u001b[39mld(\u001b[38;5;28mself\u001b[39m)\u001b[38;5;241m.\u001b[39mmodel\u001b[38;5;241m.\u001b[39mtrainable_variables), \u001b[38;5;28;01mNone\u001b[39;00m, fscope)\n\u001b[0;32m---> 18\u001b[0m \u001b[43mag__\u001b[49m\u001b[38;5;241;43m.\u001b[39;49m\u001b[43mconverted_call\u001b[49m\u001b[43m(\u001b[49m\u001b[43mag__\u001b[49m\u001b[38;5;241;43m.\u001b[39;49m\u001b[43mld\u001b[49m\u001b[43m(\u001b[49m\u001b[38;5;28;43mself\u001b[39;49m\u001b[43m)\u001b[49m\u001b[38;5;241;43m.\u001b[39;49m\u001b[43moptimizer\u001b[49m\u001b[38;5;241;43m.\u001b[39;49m\u001b[43mapply_gradients\u001b[49m\u001b[43m,\u001b[49m\u001b[43m \u001b[49m\u001b[43m(\u001b[49m\u001b[43mag__\u001b[49m\u001b[38;5;241;43m.\u001b[39;49m\u001b[43mconverted_call\u001b[49m\u001b[43m(\u001b[49m\u001b[43mag__\u001b[49m\u001b[38;5;241;43m.\u001b[39;49m\u001b[43mld\u001b[49m\u001b[43m(\u001b[49m\u001b[38;5;28;43mzip\u001b[39;49m\u001b[43m)\u001b[49m\u001b[43m,\u001b[49m\u001b[43m \u001b[49m\u001b[43m(\u001b[49m\u001b[43mag__\u001b[49m\u001b[38;5;241;43m.\u001b[39;49m\u001b[43mld\u001b[49m\u001b[43m(\u001b[49m\u001b[43mgradients\u001b[49m\u001b[43m)\u001b[49m\u001b[43m,\u001b[49m\u001b[43m \u001b[49m\u001b[43mag__\u001b[49m\u001b[38;5;241;43m.\u001b[39;49m\u001b[43mld\u001b[49m\u001b[43m(\u001b[49m\u001b[38;5;28;43mself\u001b[39;49m\u001b[43m)\u001b[49m\u001b[38;5;241;43m.\u001b[39;49m\u001b[43mmodel\u001b[49m\u001b[38;5;241;43m.\u001b[39;49m\u001b[43mtrainable_variables\u001b[49m\u001b[43m)\u001b[49m\u001b[43m,\u001b[49m\u001b[43m \u001b[49m\u001b[38;5;28;43;01mNone\u001b[39;49;00m\u001b[43m,\u001b[49m\u001b[43m \u001b[49m\u001b[43mfscope\u001b[49m\u001b[43m)\u001b[49m\u001b[43m,\u001b[49m\u001b[43m)\u001b[49m\u001b[43m,\u001b[49m\u001b[43m \u001b[49m\u001b[38;5;28;43;01mNone\u001b[39;49;00m\u001b[43m,\u001b[49m\u001b[43m \u001b[49m\u001b[43mfscope\u001b[49m\u001b[43m)\u001b[49m\n\u001b[1;32m     19\u001b[0m \u001b[38;5;28;01mtry\u001b[39;00m:\n\u001b[1;32m     20\u001b[0m     do_return \u001b[38;5;241m=\u001b[39m \u001b[38;5;28;01mTrue\u001b[39;00m\n",
      "\u001b[0;31mAttributeError\u001b[0m: in user code:\n\n    File \"/opt/homebrew/Caskroom/miniconda/base/envs/EpitomeEnv/lib/python3.12/site-packages/epitome/models.py\", line 274, in train_step  *\n        self.optimizer.apply_gradients(zip(gradients, self.model.trainable_variables))\n\n    AttributeError: 'Variable' object has no attribute '_in_graph_mode'\n"
     ]
    }
   ],
   "source": [
    "best_model_batches, total_trained_batches, train_valid_losses = model.train(5000,\n",
    "        patience = 3,\n",
    "        min_delta = 0.01)"
   ]
  },
  {
   "cell_type": "code",
   "execution_count": 9,
   "metadata": {},
   "outputs": [
    {
     "name": "stdout",
     "output_type": "stream",
     "text": [
      "\u001b[31mERROR: Could not find a version that satisfies the requirement tensorflow==2.3.0 (from versions: 2.16.0rc0, 2.16.1, 2.16.2, 2.17.0rc0, 2.17.0rc1, 2.17.0)\u001b[0m\u001b[31m\n",
      "\u001b[0m\u001b[31mERROR: No matching distribution found for tensorflow==2.3.0\u001b[0m\u001b[31m\n",
      "\u001b[0m"
     ]
    }
   ],
   "source": []
  },
  {
   "cell_type": "code",
   "execution_count": 8,
   "metadata": {},
   "outputs": [
    {
     "name": "stdout",
     "output_type": "stream",
     "text": [
      "Requirement already satisfied: pip in /opt/homebrew/Caskroom/miniconda/base/envs/EpitomeEnv/lib/python3.12/site-packages (24.2)\n"
     ]
    }
   ],
   "source": [
    "!pip install --upgrade pip\n"
   ]
  },
  {
   "cell_type": "code",
   "execution_count": 12,
   "metadata": {},
   "outputs": [
    {
     "name": "stdout",
     "output_type": "stream",
     "text": [
      "Requirement already satisfied: protobuf==3.19.6 in /opt/homebrew/Caskroom/miniconda/base/envs/EpitomeEnv/lib/python3.12/site-packages (3.19.6)\n",
      "Requirement already satisfied: certifi==2022.12.7 in /opt/homebrew/Caskroom/miniconda/base/envs/EpitomeEnv/lib/python3.12/site-packages (2022.12.7)\n",
      "Requirement already satisfied: idna==2.10 in /opt/homebrew/Caskroom/miniconda/base/envs/EpitomeEnv/lib/python3.12/site-packages (2.10)\n",
      "Requirement already satisfied: tensorboard==2.9.1 in /opt/homebrew/Caskroom/miniconda/base/envs/EpitomeEnv/lib/python3.12/site-packages (2.9.1)\n",
      "Requirement already satisfied: absl-py>=0.4 in /opt/homebrew/Caskroom/miniconda/base/envs/EpitomeEnv/lib/python3.12/site-packages (from tensorboard==2.9.1) (2.1.0)\n",
      "Requirement already satisfied: grpcio>=1.24.3 in /opt/homebrew/Caskroom/miniconda/base/envs/EpitomeEnv/lib/python3.12/site-packages (from tensorboard==2.9.1) (1.66.1)\n",
      "Requirement already satisfied: google-auth<3,>=1.6.3 in /opt/homebrew/Caskroom/miniconda/base/envs/EpitomeEnv/lib/python3.12/site-packages (from tensorboard==2.9.1) (2.34.0)\n",
      "Requirement already satisfied: google-auth-oauthlib<0.5,>=0.4.1 in /opt/homebrew/Caskroom/miniconda/base/envs/EpitomeEnv/lib/python3.12/site-packages (from tensorboard==2.9.1) (0.4.6)\n",
      "Requirement already satisfied: markdown>=2.6.8 in /opt/homebrew/Caskroom/miniconda/base/envs/EpitomeEnv/lib/python3.12/site-packages (from tensorboard==2.9.1) (3.7)\n",
      "Requirement already satisfied: numpy>=1.12.0 in /opt/homebrew/Caskroom/miniconda/base/envs/EpitomeEnv/lib/python3.12/site-packages (from tensorboard==2.9.1) (1.26.4)\n",
      "Requirement already satisfied: protobuf<3.20,>=3.9.2 in /opt/homebrew/Caskroom/miniconda/base/envs/EpitomeEnv/lib/python3.12/site-packages (from tensorboard==2.9.1) (3.19.6)\n",
      "Requirement already satisfied: requests<3,>=2.21.0 in /opt/homebrew/Caskroom/miniconda/base/envs/EpitomeEnv/lib/python3.12/site-packages (from tensorboard==2.9.1) (2.25.1)\n",
      "Requirement already satisfied: setuptools>=41.0.0 in /opt/homebrew/Caskroom/miniconda/base/envs/EpitomeEnv/lib/python3.12/site-packages (from tensorboard==2.9.1) (73.0.1)\n",
      "Requirement already satisfied: tensorboard-data-server<0.7.0,>=0.6.0 in /opt/homebrew/Caskroom/miniconda/base/envs/EpitomeEnv/lib/python3.12/site-packages (from tensorboard==2.9.1) (0.6.1)\n",
      "Requirement already satisfied: tensorboard-plugin-wit>=1.6.0 in /opt/homebrew/Caskroom/miniconda/base/envs/EpitomeEnv/lib/python3.12/site-packages (from tensorboard==2.9.1) (1.8.1)\n",
      "Requirement already satisfied: werkzeug>=1.0.1 in /opt/homebrew/Caskroom/miniconda/base/envs/EpitomeEnv/lib/python3.12/site-packages (from tensorboard==2.9.1) (3.0.4)\n",
      "Requirement already satisfied: wheel>=0.26 in /opt/homebrew/Caskroom/miniconda/base/envs/EpitomeEnv/lib/python3.12/site-packages (from tensorboard==2.9.1) (0.44.0)\n",
      "Requirement already satisfied: cachetools<6.0,>=2.0.0 in /opt/homebrew/Caskroom/miniconda/base/envs/EpitomeEnv/lib/python3.12/site-packages (from google-auth<3,>=1.6.3->tensorboard==2.9.1) (5.5.0)\n",
      "Requirement already satisfied: pyasn1-modules>=0.2.1 in /opt/homebrew/Caskroom/miniconda/base/envs/EpitomeEnv/lib/python3.12/site-packages (from google-auth<3,>=1.6.3->tensorboard==2.9.1) (0.4.1)\n",
      "Requirement already satisfied: rsa<5,>=3.1.4 in /opt/homebrew/Caskroom/miniconda/base/envs/EpitomeEnv/lib/python3.12/site-packages (from google-auth<3,>=1.6.3->tensorboard==2.9.1) (4.9)\n",
      "Requirement already satisfied: requests-oauthlib>=0.7.0 in /opt/homebrew/Caskroom/miniconda/base/envs/EpitomeEnv/lib/python3.12/site-packages (from google-auth-oauthlib<0.5,>=0.4.1->tensorboard==2.9.1) (2.0.0)\n",
      "Requirement already satisfied: chardet<5,>=3.0.2 in /opt/homebrew/Caskroom/miniconda/base/envs/EpitomeEnv/lib/python3.12/site-packages (from requests<3,>=2.21.0->tensorboard==2.9.1) (4.0.0)\n",
      "Requirement already satisfied: idna<3,>=2.5 in /opt/homebrew/Caskroom/miniconda/base/envs/EpitomeEnv/lib/python3.12/site-packages (from requests<3,>=2.21.0->tensorboard==2.9.1) (2.10)\n",
      "Requirement already satisfied: urllib3<1.27,>=1.21.1 in /opt/homebrew/Caskroom/miniconda/base/envs/EpitomeEnv/lib/python3.12/site-packages (from requests<3,>=2.21.0->tensorboard==2.9.1) (1.26.20)\n",
      "Requirement already satisfied: certifi>=2017.4.17 in /opt/homebrew/Caskroom/miniconda/base/envs/EpitomeEnv/lib/python3.12/site-packages (from requests<3,>=2.21.0->tensorboard==2.9.1) (2022.12.7)\n",
      "Requirement already satisfied: MarkupSafe>=2.1.1 in /opt/homebrew/Caskroom/miniconda/base/envs/EpitomeEnv/lib/python3.12/site-packages (from werkzeug>=1.0.1->tensorboard==2.9.1) (2.1.5)\n",
      "Requirement already satisfied: pyasn1<0.7.0,>=0.4.6 in /opt/homebrew/Caskroom/miniconda/base/envs/EpitomeEnv/lib/python3.12/site-packages (from pyasn1-modules>=0.2.1->google-auth<3,>=1.6.3->tensorboard==2.9.1) (0.6.1)\n",
      "Requirement already satisfied: oauthlib>=3.0.0 in /opt/homebrew/Caskroom/miniconda/base/envs/EpitomeEnv/lib/python3.12/site-packages (from requests-oauthlib>=0.7.0->google-auth-oauthlib<0.5,>=0.4.1->tensorboard==2.9.1) (3.2.2)\n",
      "Requirement already satisfied: tensorboard_data_server==0.6.1 in /opt/homebrew/Caskroom/miniconda/base/envs/EpitomeEnv/lib/python3.12/site-packages (0.6.1)\n",
      "Requirement already satisfied: requests==2.25.1 in /opt/homebrew/Caskroom/miniconda/base/envs/EpitomeEnv/lib/python3.12/site-packages (2.25.1)\n",
      "Requirement already satisfied: chardet<5,>=3.0.2 in /opt/homebrew/Caskroom/miniconda/base/envs/EpitomeEnv/lib/python3.12/site-packages (from requests==2.25.1) (4.0.0)\n",
      "Requirement already satisfied: idna<3,>=2.5 in /opt/homebrew/Caskroom/miniconda/base/envs/EpitomeEnv/lib/python3.12/site-packages (from requests==2.25.1) (2.10)\n",
      "Requirement already satisfied: urllib3<1.27,>=1.21.1 in /opt/homebrew/Caskroom/miniconda/base/envs/EpitomeEnv/lib/python3.12/site-packages (from requests==2.25.1) (1.26.20)\n",
      "Requirement already satisfied: certifi>=2017.4.17 in /opt/homebrew/Caskroom/miniconda/base/envs/EpitomeEnv/lib/python3.12/site-packages (from requests==2.25.1) (2022.12.7)\n",
      "\u001b[31mERROR: Could not find a version that satisfies the requirement tensorflow==2.3.0 (from versions: 2.16.0rc0, 2.16.1, 2.16.2, 2.17.0rc0, 2.17.0rc1, 2.17.0)\u001b[0m\u001b[31m\n",
      "\u001b[0m\u001b[31mERROR: No matching distribution found for tensorflow==2.3.0\u001b[0m\u001b[31m\n",
      "\u001b[0m"
     ]
    }
   ],
   "source": [
    "!pip install protobuf==3.19.6\n",
    "!pip install certifi==2022.12.7\n",
    "!pip install idna==2.10\n",
    "!pip install tensorboard==2.9.1\n",
    "!pip install tensorboard_data_server==0.6.1\n",
    "!pip install requests==2.25.1\n",
    "!pip install tensorflow==2.3.0"
   ]
  },
  {
   "cell_type": "code",
   "execution_count": null,
   "metadata": {},
   "outputs": [],
   "source": []
  }
 ],
 "metadata": {
  "kernelspec": {
   "display_name": ".venv",
   "language": "python",
   "name": "python3"
  },
  "language_info": {
   "codemirror_mode": {
    "name": "ipython",
    "version": 3
   },
   "file_extension": ".py",
   "mimetype": "text/x-python",
   "name": "python",
   "nbconvert_exporter": "python",
   "pygments_lexer": "ipython3",
   "version": "3.12.6"
  }
 },
 "nbformat": 4,
 "nbformat_minor": 2
}
