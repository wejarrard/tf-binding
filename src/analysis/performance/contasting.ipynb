{
 "cells": [
  {
   "cell_type": "code",
   "execution_count": 29,
   "metadata": {},
   "outputs": [],
   "source": [
    "import os\n",
    "import polars as pl\n",
    "from dataclasses import dataclass\n",
    "\n",
    "PROJECT_PATH = \"/data1/datasets_1/human_cistrome/chip-atlas/peak_calls/tfbinding_scripts/tf-binding\"\n",
    "\n",
    "@dataclass\n",
    "class SampleConfig:\n",
    "    label: str\n",
    "    sample: str\n",
    "    ground_truth_file: str\n",
    "\n",
    "# create a list of SampleConfig objects\n",
    "sample_configs = [\n",
    "    SampleConfig(label=\"FOX-Contrasting\", sample=\"A549\", ground_truth_file=f\"{PROJECT_PATH}/data/data_splits/validation_FOXA1_FOXA2.csv\"),\n",
    "]\n"
   ]
  },
  {
   "cell_type": "code",
   "execution_count": 30,
   "metadata": {},
   "outputs": [
    {
     "data": {
      "text/html": [
       "<div><style>\n",
       ".dataframe > thead > tr,\n",
       ".dataframe > tbody > tr {\n",
       "  text-align: right;\n",
       "  white-space: pre-wrap;\n",
       "}\n",
       "</style>\n",
       "<small>shape: (12_004, 8)</small><table border=\"1\" class=\"dataframe\"><thead><tr><th>chr</th><th>start</th><th>end</th><th>count</th><th>targets</th><th>column_6</th><th>probabilities</th><th>predicted</th></tr><tr><td>str</td><td>i64</td><td>i64</td><td>f64</td><td>f64</td><td>str</td><td>f64</td><td>f64</td></tr></thead><tbody><tr><td>&quot;chr2&quot;</td><td>739972</td><td>740939</td><td>0.0</td><td>0.0</td><td>&quot;A549&quot;</td><td>0.526855</td><td>1.0</td></tr><tr><td>&quot;chr7&quot;</td><td>635940</td><td>636669</td><td>0.0</td><td>0.0</td><td>&quot;A549&quot;</td><td>0.10302</td><td>0.0</td></tr><tr><td>&quot;chr19&quot;</td><td>42242543</td><td>42243532</td><td>0.0</td><td>0.0</td><td>&quot;A549&quot;</td><td>0.136167</td><td>0.0</td></tr><tr><td>&quot;chr7&quot;</td><td>112391260</td><td>112392219</td><td>0.0</td><td>0.0</td><td>&quot;A549&quot;</td><td>0.021645</td><td>0.0</td></tr><tr><td>&quot;chr8&quot;</td><td>109333630</td><td>109334843</td><td>0.0</td><td>0.0</td><td>&quot;A549&quot;</td><td>0.045493</td><td>0.0</td></tr><tr><td>&hellip;</td><td>&hellip;</td><td>&hellip;</td><td>&hellip;</td><td>&hellip;</td><td>&hellip;</td><td>&hellip;</td><td>&hellip;</td></tr><tr><td>&quot;chr15&quot;</td><td>78303575</td><td>78303790</td><td>0.0</td><td>0.0</td><td>&quot;A549&quot;</td><td>0.015832</td><td>0.0</td></tr><tr><td>&quot;chr2&quot;</td><td>56812631</td><td>56813654</td><td>1.0</td><td>1.0</td><td>&quot;A549&quot;</td><td>0.067692</td><td>0.0</td></tr><tr><td>&quot;chr15&quot;</td><td>87043753</td><td>87044630</td><td>0.0</td><td>0.0</td><td>&quot;A549&quot;</td><td>0.033558</td><td>0.0</td></tr><tr><td>&quot;chr22&quot;</td><td>40405618</td><td>40406300</td><td>0.0</td><td>0.0</td><td>&quot;A549&quot;</td><td>0.018706</td><td>0.0</td></tr><tr><td>&quot;chr2&quot;</td><td>169071616</td><td>169072289</td><td>1.0</td><td>1.0</td><td>&quot;A549&quot;</td><td>0.018452</td><td>0.0</td></tr></tbody></table></div>"
      ],
      "text/plain": [
       "shape: (12_004, 8)\n",
       "┌───────┬───────────┬───────────┬───────┬─────────┬──────────┬───────────────┬───────────┐\n",
       "│ chr   ┆ start     ┆ end       ┆ count ┆ targets ┆ column_6 ┆ probabilities ┆ predicted │\n",
       "│ ---   ┆ ---       ┆ ---       ┆ ---   ┆ ---     ┆ ---      ┆ ---           ┆ ---       │\n",
       "│ str   ┆ i64       ┆ i64       ┆ f64   ┆ f64     ┆ str      ┆ f64           ┆ f64       │\n",
       "╞═══════╪═══════════╪═══════════╪═══════╪═════════╪══════════╪═══════════════╪═══════════╡\n",
       "│ chr2  ┆ 739972    ┆ 740939    ┆ 0.0   ┆ 0.0     ┆ A549     ┆ 0.526855      ┆ 1.0       │\n",
       "│ chr7  ┆ 635940    ┆ 636669    ┆ 0.0   ┆ 0.0     ┆ A549     ┆ 0.10302       ┆ 0.0       │\n",
       "│ chr19 ┆ 42242543  ┆ 42243532  ┆ 0.0   ┆ 0.0     ┆ A549     ┆ 0.136167      ┆ 0.0       │\n",
       "│ chr7  ┆ 112391260 ┆ 112392219 ┆ 0.0   ┆ 0.0     ┆ A549     ┆ 0.021645      ┆ 0.0       │\n",
       "│ chr8  ┆ 109333630 ┆ 109334843 ┆ 0.0   ┆ 0.0     ┆ A549     ┆ 0.045493      ┆ 0.0       │\n",
       "│ …     ┆ …         ┆ …         ┆ …     ┆ …       ┆ …        ┆ …             ┆ …         │\n",
       "│ chr15 ┆ 78303575  ┆ 78303790  ┆ 0.0   ┆ 0.0     ┆ A549     ┆ 0.015832      ┆ 0.0       │\n",
       "│ chr2  ┆ 56812631  ┆ 56813654  ┆ 1.0   ┆ 1.0     ┆ A549     ┆ 0.067692      ┆ 0.0       │\n",
       "│ chr15 ┆ 87043753  ┆ 87044630  ┆ 0.0   ┆ 0.0     ┆ A549     ┆ 0.033558      ┆ 0.0       │\n",
       "│ chr22 ┆ 40405618  ┆ 40406300  ┆ 0.0   ┆ 0.0     ┆ A549     ┆ 0.018706      ┆ 0.0       │\n",
       "│ chr2  ┆ 169071616 ┆ 169072289 ┆ 1.0   ┆ 1.0     ┆ A549     ┆ 0.018452      ┆ 0.0       │\n",
       "└───────┴───────────┴───────────┴───────┴─────────┴──────────┴───────────────┴───────────┘"
      ]
     },
     "execution_count": 30,
     "metadata": {},
     "output_type": "execute_result"
    }
   ],
   "source": [
    "\n",
    "def enrich_chip_data(chip_df, reference_df):\n",
    "    \"\"\"\n",
    "    Add probabilities and predicted columns from reference dataframe to chip dataframe\n",
    "    by matching on chr, start, and end coordinates.\n",
    "    \n",
    "    Args:\n",
    "        chip_df: The chip data dataframe to enrich\n",
    "        reference_df: The source dataframe containing probabilities and predicted values\n",
    "        \n",
    "    Returns:\n",
    "        Enriched chip dataframe with added columns\n",
    "    \"\"\"\n",
    "    # Join chip_data with df on the chromosome coordinates\n",
    "    enriched_chip_df = chip_df.join(\n",
    "        reference_df.select(['chr', 'start', 'end', 'probabilities', 'predicted']),\n",
    "        on=['chr', 'start', 'end'],\n",
    "        how='left'\n",
    "    )\n",
    "    \n",
    "    return enriched_chip_df\n",
    "\n",
    "\n",
    "dfs = []\n",
    "for sample_config in sample_configs:\n",
    "    parquet_path = PROJECT_PATH + \"/data/processed_results/\" + sample_config.label + \"_\" + sample_config.sample + \"_processed.parquet\"\n",
    "    df = pl.read_parquet(parquet_path, columns=[\"chr_name\", \"start\", \"end\", \"cell_line\", \"targets\", \"predicted\", \"weights\", \"probabilities\"])\n",
    "    df = df.rename({\"chr_name\": \"chr\"})\n",
    "    chip_data = pl.read_csv(sample_config.ground_truth_file, separator=\"\\t\", has_header=False, new_columns=[\"chr\", \"start\", \"end\", \"count\", \"targets\"])\n",
    "    # Apply the function to add the columns\n",
    "    enriched_chip_data = enrich_chip_data(chip_data, df)\n",
    "\n",
    "    dfs.append(enriched_chip_data)\n",
    "\n",
    "dfs[0]"
   ]
  },
  {
   "cell_type": "code",
   "execution_count": 31,
   "metadata": {},
   "outputs": [],
   "source": [
    "df = dfs[0]"
   ]
  },
  {
   "cell_type": "code",
   "execution_count": 40,
   "metadata": {},
   "outputs": [
    {
     "name": "stdout",
     "output_type": "stream",
     "text": [
      "Best threshold: 0.29\n",
      "Maximum correct predictions: 7967 out of 12004 (66.37%)\n"
     ]
    },
    {
     "data": {
      "text/html": [
       "<div><style>\n",
       ".dataframe > thead > tr,\n",
       ".dataframe > tbody > tr {\n",
       "  text-align: right;\n",
       "  white-space: pre-wrap;\n",
       "}\n",
       "</style>\n",
       "<small>shape: (2, 2)</small><table border=\"1\" class=\"dataframe\"><thead><tr><th>correct</th><th>count</th></tr><tr><td>bool</td><td>u32</td></tr></thead><tbody><tr><td>false</td><td>4037</td></tr><tr><td>true</td><td>7967</td></tr></tbody></table></div>"
      ],
      "text/plain": [
       "shape: (2, 2)\n",
       "┌─────────┬───────┐\n",
       "│ correct ┆ count │\n",
       "│ ---     ┆ ---   │\n",
       "│ bool    ┆ u32   │\n",
       "╞═════════╪═══════╡\n",
       "│ false   ┆ 4037  │\n",
       "│ true    ┆ 7967  │\n",
       "└─────────┴───────┘"
      ]
     },
     "execution_count": 40,
     "metadata": {},
     "output_type": "execute_result"
    }
   ],
   "source": [
    "# Find the threshold that maximizes the number of correct predictions\n",
    "thresholds = [t/100 for t in range(1, 100)]  # Test thresholds from 0.01 to 0.99\n",
    "best_threshold = 0\n",
    "max_correct = 0\n",
    "\n",
    "for threshold in thresholds:\n",
    "    # Apply threshold to create predicted column\n",
    "    temp_df = df.with_columns(pl.col('probabilities').gt(threshold).alias('predicted'))\n",
    "    # Convert boolean to int\n",
    "    temp_df = temp_df.with_columns(pl.col('predicted').cast(pl.Int64))\n",
    "    # Check where predictions match targets\n",
    "    temp_df = temp_df.with_columns((pl.col('targets') == pl.col('predicted')).alias('correct'))\n",
    "    # Count correct predictions\n",
    "    correct_count = temp_df.filter(pl.col('correct') == True).shape[0]\n",
    "    \n",
    "    # Update best threshold if we found more correct predictions\n",
    "    if correct_count > max_correct:\n",
    "        max_correct = correct_count\n",
    "        best_threshold = threshold\n",
    "\n",
    "print(f\"Best threshold: {best_threshold:.2f}\")\n",
    "print(f\"Maximum correct predictions: {max_correct} out of {df.shape[0]} ({max_correct/df.shape[0]:.2%})\")\n",
    "\n",
    "# Apply the best threshold to the dataframe\n",
    "df = df.with_columns(pl.col('probabilities').gt(best_threshold).alias('predicted'))\n",
    "df = df.with_columns(pl.col('predicted').cast(pl.Int64))\n",
    "df = df.with_columns((pl.col('targets') == pl.col('predicted')).alias('correct'))\n",
    "df['correct'].value_counts()\n"
   ]
  },
  {
   "cell_type": "code",
   "execution_count": 37,
   "metadata": {},
   "outputs": [
    {
     "data": {
      "text/html": [
       "<div><style>\n",
       ".dataframe > thead > tr,\n",
       ".dataframe > tbody > tr {\n",
       "  text-align: right;\n",
       "  white-space: pre-wrap;\n",
       "}\n",
       "</style>\n",
       "<small>shape: (12_004, 9)</small><table border=\"1\" class=\"dataframe\"><thead><tr><th>chr</th><th>start</th><th>end</th><th>count</th><th>targets</th><th>column_6</th><th>probabilities</th><th>predicted</th><th>correct</th></tr><tr><td>str</td><td>i64</td><td>i64</td><td>f64</td><td>f64</td><td>str</td><td>f64</td><td>i64</td><td>bool</td></tr></thead><tbody><tr><td>&quot;chr2&quot;</td><td>739972</td><td>740939</td><td>0.0</td><td>0.0</td><td>&quot;A549&quot;</td><td>0.526855</td><td>1</td><td>false</td></tr><tr><td>&quot;chr7&quot;</td><td>635940</td><td>636669</td><td>0.0</td><td>0.0</td><td>&quot;A549&quot;</td><td>0.10302</td><td>0</td><td>true</td></tr><tr><td>&quot;chr19&quot;</td><td>42242543</td><td>42243532</td><td>0.0</td><td>0.0</td><td>&quot;A549&quot;</td><td>0.136167</td><td>0</td><td>true</td></tr><tr><td>&quot;chr7&quot;</td><td>112391260</td><td>112392219</td><td>0.0</td><td>0.0</td><td>&quot;A549&quot;</td><td>0.021645</td><td>0</td><td>true</td></tr><tr><td>&quot;chr8&quot;</td><td>109333630</td><td>109334843</td><td>0.0</td><td>0.0</td><td>&quot;A549&quot;</td><td>0.045493</td><td>0</td><td>true</td></tr><tr><td>&hellip;</td><td>&hellip;</td><td>&hellip;</td><td>&hellip;</td><td>&hellip;</td><td>&hellip;</td><td>&hellip;</td><td>&hellip;</td><td>&hellip;</td></tr><tr><td>&quot;chr15&quot;</td><td>78303575</td><td>78303790</td><td>0.0</td><td>0.0</td><td>&quot;A549&quot;</td><td>0.015832</td><td>0</td><td>true</td></tr><tr><td>&quot;chr2&quot;</td><td>56812631</td><td>56813654</td><td>1.0</td><td>1.0</td><td>&quot;A549&quot;</td><td>0.067692</td><td>0</td><td>false</td></tr><tr><td>&quot;chr15&quot;</td><td>87043753</td><td>87044630</td><td>0.0</td><td>0.0</td><td>&quot;A549&quot;</td><td>0.033558</td><td>0</td><td>true</td></tr><tr><td>&quot;chr22&quot;</td><td>40405618</td><td>40406300</td><td>0.0</td><td>0.0</td><td>&quot;A549&quot;</td><td>0.018706</td><td>0</td><td>true</td></tr><tr><td>&quot;chr2&quot;</td><td>169071616</td><td>169072289</td><td>1.0</td><td>1.0</td><td>&quot;A549&quot;</td><td>0.018452</td><td>0</td><td>false</td></tr></tbody></table></div>"
      ],
      "text/plain": [
       "shape: (12_004, 9)\n",
       "┌───────┬───────────┬───────────┬───────┬───┬──────────┬───────────────┬───────────┬─────────┐\n",
       "│ chr   ┆ start     ┆ end       ┆ count ┆ … ┆ column_6 ┆ probabilities ┆ predicted ┆ correct │\n",
       "│ ---   ┆ ---       ┆ ---       ┆ ---   ┆   ┆ ---      ┆ ---           ┆ ---       ┆ ---     │\n",
       "│ str   ┆ i64       ┆ i64       ┆ f64   ┆   ┆ str      ┆ f64           ┆ i64       ┆ bool    │\n",
       "╞═══════╪═══════════╪═══════════╪═══════╪═══╪══════════╪═══════════════╪═══════════╪═════════╡\n",
       "│ chr2  ┆ 739972    ┆ 740939    ┆ 0.0   ┆ … ┆ A549     ┆ 0.526855      ┆ 1         ┆ false   │\n",
       "│ chr7  ┆ 635940    ┆ 636669    ┆ 0.0   ┆ … ┆ A549     ┆ 0.10302       ┆ 0         ┆ true    │\n",
       "│ chr19 ┆ 42242543  ┆ 42243532  ┆ 0.0   ┆ … ┆ A549     ┆ 0.136167      ┆ 0         ┆ true    │\n",
       "│ chr7  ┆ 112391260 ┆ 112392219 ┆ 0.0   ┆ … ┆ A549     ┆ 0.021645      ┆ 0         ┆ true    │\n",
       "│ chr8  ┆ 109333630 ┆ 109334843 ┆ 0.0   ┆ … ┆ A549     ┆ 0.045493      ┆ 0         ┆ true    │\n",
       "│ …     ┆ …         ┆ …         ┆ …     ┆ … ┆ …        ┆ …             ┆ …         ┆ …       │\n",
       "│ chr15 ┆ 78303575  ┆ 78303790  ┆ 0.0   ┆ … ┆ A549     ┆ 0.015832      ┆ 0         ┆ true    │\n",
       "│ chr2  ┆ 56812631  ┆ 56813654  ┆ 1.0   ┆ … ┆ A549     ┆ 0.067692      ┆ 0         ┆ false   │\n",
       "│ chr15 ┆ 87043753  ┆ 87044630  ┆ 0.0   ┆ … ┆ A549     ┆ 0.033558      ┆ 0         ┆ true    │\n",
       "│ chr22 ┆ 40405618  ┆ 40406300  ┆ 0.0   ┆ … ┆ A549     ┆ 0.018706      ┆ 0         ┆ true    │\n",
       "│ chr2  ┆ 169071616 ┆ 169072289 ┆ 1.0   ┆ … ┆ A549     ┆ 0.018452      ┆ 0         ┆ false   │\n",
       "└───────┴───────────┴───────────┴───────┴───┴──────────┴───────────────┴───────────┴─────────┘"
      ]
     },
     "execution_count": 37,
     "metadata": {},
     "output_type": "execute_result"
    }
   ],
   "source": [
    "df"
   ]
  },
  {
   "cell_type": "code",
   "execution_count": null,
   "metadata": {},
   "outputs": [],
   "source": []
  }
 ],
 "metadata": {
  "kernelspec": {
   "display_name": "processing",
   "language": "python",
   "name": "python3"
  },
  "language_info": {
   "codemirror_mode": {
    "name": "ipython",
    "version": 3
   },
   "file_extension": ".py",
   "mimetype": "text/x-python",
   "name": "python",
   "nbconvert_exporter": "python",
   "pygments_lexer": "ipython3",
   "version": "3.10.14"
  }
 },
 "nbformat": 4,
 "nbformat_minor": 2
}
