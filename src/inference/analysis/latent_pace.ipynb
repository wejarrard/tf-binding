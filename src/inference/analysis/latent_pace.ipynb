{
 "cells": [
  {
   "cell_type": "code",
   "execution_count": 1,
   "metadata": {},
   "outputs": [
    {
     "name": "stderr",
     "output_type": "stream",
     "text": [
      "/Users/wejarrard/projects/tf-binding/.venv/lib/python3.10/site-packages/tqdm/auto.py:21: TqdmWarning: IProgress not found. Please update jupyter and ipywidgets. See https://ipywidgets.readthedocs.io/en/stable/user_install.html\n",
      "  from .autonotebook import tqdm as notebook_tqdm\n"
     ]
    },
    {
     "name": "stdout",
     "output_type": "stream",
     "text": [
      "sagemaker.config INFO - Not applying SDK defaults from location: /Library/Application Support/sagemaker/config.yaml\n",
      "sagemaker.config INFO - Not applying SDK defaults from location: /Users/wejarrard/Library/Application Support/sagemaker/config.yaml\n"
     ]
    }
   ],
   "source": [
    "import boto3\n",
    "import os\n",
    "import pandas as pd\n",
    "import glob\n",
    "import matplotlib.pyplot as plt\n",
    "import umap\n",
    "import numpy as np\n",
    "\n",
    "from sagemaker import Session\n",
    "\n",
    "# Initialize a SageMaker session\n",
    "sagemaker_session = Session()\n",
    "\n",
    "\n",
    "\n",
    "role = \"arn:aws:iam::016114370410:role/tf-binding-sites\"\n",
    "\n",
    "prefix = \"inference/output/Motifs-AR-22Rv1-2024-10-19-11-56-44\"\n",
    "local_dir = \"/Users/wejarrard/projects/tf-binding/data/jsonl_output\"\n",
    "\n",
    "\n",
    "# Initialize the S3 client\n",
    "s3 = boto3.client('s3')\n",
    "\n",
    "# Specify your S3 bucket name\n",
    "bucket_name = sagemaker_session.default_bucket()\n",
    "\n",
    "\n",
    "# Function to download files from an S3 bucket\n",
    "def download_from_s3(bucket_name, prefix, local_dir):\n",
    "    if not os.path.exists(local_dir):\n",
    "        os.makedirs(local_dir)\n",
    "\n",
    "    # List objects within the specified prefix\n",
    "    response = s3.list_objects_v2(Bucket=bucket_name, Prefix=prefix)\n",
    "\n",
    "    # Iterate over each object\n",
    "    for obj in response.get('Contents', []):\n",
    "        key = obj['Key']\n",
    "        # Skip if it's a folder\n",
    "        if key.endswith('/'):\n",
    "            continue\n",
    "        local_path = os.path.join(local_dir, os.path.basename(key))\n",
    "        \n",
    "        # Download the file\n",
    "        s3.download_file(bucket_name, key, local_path)\n",
    "        print(f'Downloaded {key} to {local_path}')\n",
    "\n",
    "# Bucket name extracted from the S3 URI\n",
    "bucket_name = \"tf-binding-sites\"\n",
    "\n",
    "# # delete the files in local dir\n",
    "# for file in os.listdir(local_dir):\n",
    "#     os.remove(os.path.join(local_dir, file))\n",
    "    \n",
    "\n",
    "# # Download the files\n",
    "# download_from_s3(bucket_name, prefix, \"/Users/wejarrard/projects/tf-binding/data/jsonl_output\")\n",
    "\n",
    "\n",
    "# Path to the directory containing JSON files\n",
    "json_dir = \"/Users/wejarrard/projects/tf-binding/data/jsonl_output\"\n",
    "\n",
    "# Get a list of all JSON files in the directory\n",
    "json_files = glob.glob(f\"{json_dir}/*.jsonl.gz.out\")\n",
    "\n",
    "# Read each JSON file into a DataFrame and store in a list\n",
    "dataframes = [pd.read_json(file) for file in json_files]\n",
    "\n",
    "# Concatenate all DataFrames into a single DataFrame\n",
    "df = pd.concat(dataframes, ignore_index=True)"
   ]
  },
  {
   "cell_type": "code",
   "execution_count": 2,
   "metadata": {},
   "outputs": [
    {
     "name": "stdout",
     "output_type": "stream",
     "text": [
      "Threshold: 0.5\n",
      "TP: 5221\n",
      "TN: 79618\n",
      "FN: 113\n",
      "FP: 18257\n",
      "Accuracy: 0.8220116462711585\n",
      "Precision: 0.22237839679700144\n",
      "Recall: 0.9788151481064867\n",
      "\n",
      "Threshold: 0.9\n",
      "TP: 5126\n",
      "TN: 86985\n",
      "FN: 208\n",
      "FP: 10890\n",
      "Accuracy: 0.8924706178724724\n",
      "Precision: 0.32005494505494503\n",
      "Recall: 0.9610048743907011\n",
      "\n",
      "Threshold: 0.95\n",
      "TP: 5080\n",
      "TN: 89050\n",
      "FN: 254\n",
      "FP: 8825\n",
      "Accuracy: 0.9120328653508899\n",
      "Precision: 0.36533620999640415\n",
      "Recall: 0.9523809523809523\n",
      "\n",
      "Threshold: 0.99\n",
      "TP: 4857\n",
      "TN: 92985\n",
      "FN: 477\n",
      "FP: 4890\n",
      "Accuracy: 0.9479987210417696\n",
      "Precision: 0.49830717143736536\n",
      "Recall: 0.9105736782902137\n",
      "\n",
      "Threshold: 0.999\n",
      "TP: 3869\n",
      "TN: 96489\n",
      "FN: 1465\n",
      "FP: 1386\n",
      "Accuracy: 0.9723764400391439\n",
      "Precision: 0.7362511893434824\n",
      "Recall: 0.7253468316460443\n",
      "\n"
     ]
    }
   ],
   "source": [
    "# get accuracy precision and recall targets vs predicted for entire dataset, also get tp fp tn fn\n",
    "df['targets'] = df['targets'].astype('int')\n",
    "df['predicted'] = df['predicted'].astype('int')\n",
    "\n",
    "# Calculate accuracy, precision, and recall\n",
    "accuracy = (df['targets'] == df['predicted']).mean()\n",
    "precision = ((df['targets'] == 1) & (df['predicted'] == 1)).sum() / (df['predicted'] == 1).sum()\n",
    "recall = ((df['targets'] == 1) & (df['predicted'] == 1)).sum() / (df['targets'] == 1).sum()\n",
    "\n",
    "# get tp tn fn fp for 0.9, 0.95, 0.99, 0.999 thresholds\n",
    "thresholds = [0.5, 0.9, 0.95, 0.99, 0.999]\n",
    "\n",
    "for threshold in thresholds:\n",
    "    print(f\"Threshold: {threshold}\")\n",
    "    tp = ((df['probabilities'] >= threshold) & (df['targets'] == 1)).sum()\n",
    "    tn = ((df['probabilities'] < threshold) & (df['targets'] == 0)).sum()\n",
    "    fn = ((df['probabilities'] < threshold) & (df['targets'] == 1)).sum()\n",
    "    fp = ((df['probabilities'] >= threshold) & (df['targets'] == 0)).sum()\n",
    "\n",
    "    accuracy = (tp + tn) / (tp + tn + fp + fn)\n",
    "    precision = tp / (tp + fp)\n",
    "    recall = tp / (tp + fn)\n",
    "\n",
    "    # print all tp tn fn fp acc prec rec\n",
    "    print(f\"TP: {tp}\")\n",
    "    print(f\"TN: {tn}\")\n",
    "    print(f\"FN: {fn}\")\n",
    "    print(f\"FP: {fp}\")\n",
    "    print(f\"Accuracy: {accuracy}\")\n",
    "    print(f\"Precision: {precision}\")\n",
    "    print(f\"Recall: {recall}\")\n",
    "    print()\n",
    "\n"
   ]
  },
  {
   "cell_type": "code",
   "execution_count": 3,
   "metadata": {},
   "outputs": [
    {
     "data": {
      "text/html": [
       "<div>\n",
       "<style scoped>\n",
       "    .dataframe tbody tr th:only-of-type {\n",
       "        vertical-align: middle;\n",
       "    }\n",
       "\n",
       "    .dataframe tbody tr th {\n",
       "        vertical-align: top;\n",
       "    }\n",
       "\n",
       "    .dataframe thead th {\n",
       "        text-align: right;\n",
       "    }\n",
       "</style>\n",
       "<table border=\"1\" class=\"dataframe\">\n",
       "  <thead>\n",
       "    <tr style=\"text-align: right;\">\n",
       "      <th></th>\n",
       "      <th>chr_name</th>\n",
       "      <th>start</th>\n",
       "      <th>end</th>\n",
       "      <th>cell_line</th>\n",
       "      <th>targets</th>\n",
       "      <th>predicted</th>\n",
       "      <th>weights</th>\n",
       "      <th>probabilities</th>\n",
       "      <th>linear_512_output</th>\n",
       "      <th>motifs</th>\n",
       "      <th>...</th>\n",
       "      <th>feature_502</th>\n",
       "      <th>feature_503</th>\n",
       "      <th>feature_504</th>\n",
       "      <th>feature_505</th>\n",
       "      <th>feature_506</th>\n",
       "      <th>feature_507</th>\n",
       "      <th>feature_508</th>\n",
       "      <th>feature_509</th>\n",
       "      <th>feature_510</th>\n",
       "      <th>feature_511</th>\n",
       "    </tr>\n",
       "  </thead>\n",
       "  <tbody>\n",
       "    <tr>\n",
       "      <th>0</th>\n",
       "      <td>chr3</td>\n",
       "      <td>160491076</td>\n",
       "      <td>160493437</td>\n",
       "      <td>22Rv1</td>\n",
       "      <td>0</td>\n",
       "      <td>0</td>\n",
       "      <td>0</td>\n",
       "      <td>0.000030</td>\n",
       "      <td>[[-8.3039941788, -9.3181114197, -9.2222795486,...</td>\n",
       "      <td>CAAATATTCTTTAGA</td>\n",
       "      <td>...</td>\n",
       "      <td>-7.012489</td>\n",
       "      <td>-6.935061</td>\n",
       "      <td>-6.906998</td>\n",
       "      <td>-6.615226</td>\n",
       "      <td>-6.706022</td>\n",
       "      <td>-6.751296</td>\n",
       "      <td>-6.717427</td>\n",
       "      <td>-6.739665</td>\n",
       "      <td>-6.580424</td>\n",
       "      <td>-4.979805</td>\n",
       "    </tr>\n",
       "    <tr>\n",
       "      <th>1</th>\n",
       "      <td>chr3</td>\n",
       "      <td>160538752</td>\n",
       "      <td>160539163</td>\n",
       "      <td>22Rv1</td>\n",
       "      <td>0</td>\n",
       "      <td>0</td>\n",
       "      <td>0</td>\n",
       "      <td>0.000010</td>\n",
       "      <td>[[-6.2788534164, -9.3681640625, -8.4964818954,...</td>\n",
       "      <td>AAGTACTTAAACTGT</td>\n",
       "      <td>...</td>\n",
       "      <td>-8.737627</td>\n",
       "      <td>-8.354425</td>\n",
       "      <td>-8.278188</td>\n",
       "      <td>-8.449848</td>\n",
       "      <td>-8.835270</td>\n",
       "      <td>-8.991581</td>\n",
       "      <td>-8.734056</td>\n",
       "      <td>-9.017185</td>\n",
       "      <td>-9.189394</td>\n",
       "      <td>-8.348048</td>\n",
       "    </tr>\n",
       "    <tr>\n",
       "      <th>2</th>\n",
       "      <td>chr3</td>\n",
       "      <td>160543990</td>\n",
       "      <td>160544480</td>\n",
       "      <td>22Rv1</td>\n",
       "      <td>0</td>\n",
       "      <td>0</td>\n",
       "      <td>0</td>\n",
       "      <td>0.000006</td>\n",
       "      <td>[[-7.2467284203, -9.0045938492, -8.8901319504,...</td>\n",
       "      <td>AGGTACTCTAAGATT</td>\n",
       "      <td>...</td>\n",
       "      <td>-11.865794</td>\n",
       "      <td>-11.910988</td>\n",
       "      <td>-11.821841</td>\n",
       "      <td>-11.637135</td>\n",
       "      <td>-11.371367</td>\n",
       "      <td>-11.011414</td>\n",
       "      <td>-10.873665</td>\n",
       "      <td>-10.888050</td>\n",
       "      <td>-10.295553</td>\n",
       "      <td>-8.260612</td>\n",
       "    </tr>\n",
       "    <tr>\n",
       "      <th>3</th>\n",
       "      <td>chr3</td>\n",
       "      <td>160553933</td>\n",
       "      <td>160554809</td>\n",
       "      <td>22Rv1</td>\n",
       "      <td>0</td>\n",
       "      <td>0</td>\n",
       "      <td>0</td>\n",
       "      <td>0.000332</td>\n",
       "      <td>[[-2.3411931992, -3.7899346352, -3.027173996, ...</td>\n",
       "      <td>AAGGGGGAATGATTG</td>\n",
       "      <td>...</td>\n",
       "      <td>-2.807557</td>\n",
       "      <td>-2.519457</td>\n",
       "      <td>-2.657507</td>\n",
       "      <td>-2.959347</td>\n",
       "      <td>-2.726985</td>\n",
       "      <td>-2.843576</td>\n",
       "      <td>-2.755872</td>\n",
       "      <td>-2.595378</td>\n",
       "      <td>-2.110865</td>\n",
       "      <td>-2.480732</td>\n",
       "    </tr>\n",
       "    <tr>\n",
       "      <th>4</th>\n",
       "      <td>chr3</td>\n",
       "      <td>160564582</td>\n",
       "      <td>160566324</td>\n",
       "      <td>22Rv1</td>\n",
       "      <td>0</td>\n",
       "      <td>0</td>\n",
       "      <td>0</td>\n",
       "      <td>0.001626</td>\n",
       "      <td>[[0.5962683558, -0.1447146833, -0.966160714600...</td>\n",
       "      <td>CGACTTGGAGGTAAA</td>\n",
       "      <td>...</td>\n",
       "      <td>-1.496511</td>\n",
       "      <td>-1.392420</td>\n",
       "      <td>-0.943701</td>\n",
       "      <td>-1.021763</td>\n",
       "      <td>-0.770029</td>\n",
       "      <td>-0.535903</td>\n",
       "      <td>-0.059459</td>\n",
       "      <td>0.073631</td>\n",
       "      <td>0.791403</td>\n",
       "      <td>0.854661</td>\n",
       "    </tr>\n",
       "  </tbody>\n",
       "</table>\n",
       "<p>5 rows × 522 columns</p>\n",
       "</div>"
      ],
      "text/plain": [
       "  chr_name      start        end cell_line  targets  predicted  weights  \\\n",
       "0     chr3  160491076  160493437     22Rv1        0          0        0   \n",
       "1     chr3  160538752  160539163     22Rv1        0          0        0   \n",
       "2     chr3  160543990  160544480     22Rv1        0          0        0   \n",
       "3     chr3  160553933  160554809     22Rv1        0          0        0   \n",
       "4     chr3  160564582  160566324     22Rv1        0          0        0   \n",
       "\n",
       "   probabilities                                  linear_512_output  \\\n",
       "0       0.000030  [[-8.3039941788, -9.3181114197, -9.2222795486,...   \n",
       "1       0.000010  [[-6.2788534164, -9.3681640625, -8.4964818954,...   \n",
       "2       0.000006  [[-7.2467284203, -9.0045938492, -8.8901319504,...   \n",
       "3       0.000332  [[-2.3411931992, -3.7899346352, -3.027173996, ...   \n",
       "4       0.001626  [[0.5962683558, -0.1447146833, -0.966160714600...   \n",
       "\n",
       "            motifs  ...  feature_502  feature_503  feature_504  feature_505  \\\n",
       "0  CAAATATTCTTTAGA  ...    -7.012489    -6.935061    -6.906998    -6.615226   \n",
       "1  AAGTACTTAAACTGT  ...    -8.737627    -8.354425    -8.278188    -8.449848   \n",
       "2  AGGTACTCTAAGATT  ...   -11.865794   -11.910988   -11.821841   -11.637135   \n",
       "3  AAGGGGGAATGATTG  ...    -2.807557    -2.519457    -2.657507    -2.959347   \n",
       "4  CGACTTGGAGGTAAA  ...    -1.496511    -1.392420    -0.943701    -1.021763   \n",
       "\n",
       "   feature_506  feature_507  feature_508  feature_509  feature_510  \\\n",
       "0    -6.706022    -6.751296    -6.717427    -6.739665    -6.580424   \n",
       "1    -8.835270    -8.991581    -8.734056    -9.017185    -9.189394   \n",
       "2   -11.371367   -11.011414   -10.873665   -10.888050   -10.295553   \n",
       "3    -2.726985    -2.843576    -2.755872    -2.595378    -2.110865   \n",
       "4    -0.770029    -0.535903    -0.059459     0.073631     0.791403   \n",
       "\n",
       "   feature_511  \n",
       "0    -4.979805  \n",
       "1    -8.348048  \n",
       "2    -8.260612  \n",
       "3    -2.480732  \n",
       "4     0.854661  \n",
       "\n",
       "[5 rows x 522 columns]"
      ]
     },
     "execution_count": 3,
     "metadata": {},
     "output_type": "execute_result"
    }
   ],
   "source": [
    "# Create a new DataFrame from the extracted arrays\n",
    "df_512 = pd.DataFrame([x[0] for x in df['linear_512_output']], index=df.index)\n",
    "\n",
    "# Optionally, rename the columns if you want them to have specific names\n",
    "df_512.columns = [f'feature_{i}' for i in range(512)]\n",
    "\n",
    "# Concatenate the new DataFrame with the original one\n",
    "df = pd.concat([df, df_512], axis=1).reset_index(drop=True)\n",
    "df.head()\n"
   ]
  },
  {
   "cell_type": "code",
   "execution_count": 4,
   "metadata": {},
   "outputs": [
    {
     "name": "stderr",
     "output_type": "stream",
     "text": [
      "/Users/wejarrard/projects/tf-binding/.venv/lib/python3.10/site-packages/umap/umap_.py:1945: UserWarning: n_jobs value 1 overridden to 1 by setting random_state. Use no seed for parallelism.\n",
      "  warn(f\"n_jobs value {self.n_jobs} overridden to 1 by setting random_state. Use no seed for parallelism.\")\n",
      "/Users/wejarrard/projects/tf-binding/.venv/lib/python3.10/site-packages/sklearn/manifold/_spectral_embedding.py:329: UserWarning: Graph is not fully connected, spectral embedding may not work as expected.\n",
      "  warnings.warn(\n",
      "/var/folders/0m/90sjqm9d78l50t2x2lmdrztm0000gn/T/ipykernel_33377/961132158.py:232: UserWarning: You passed a edgecolor/edgecolors ('w') for an unfilled marker ('x').  Matplotlib is ignoring the edgecolor in favor of the facecolor.  This behavior may change in the future.\n",
      "  axes[1].scatter(\n"
     ]
    },
    {
     "name": "stdout",
     "output_type": "stream",
     "text": [
      "Generated plot for subset 'combined': UMAP_combined_n3_md0.01_nc2.png\n"
     ]
    },
    {
     "name": "stderr",
     "output_type": "stream",
     "text": [
      "/Users/wejarrard/projects/tf-binding/.venv/lib/python3.10/site-packages/umap/umap_.py:1945: UserWarning: n_jobs value 1 overridden to 1 by setting random_state. Use no seed for parallelism.\n",
      "  warn(f\"n_jobs value {self.n_jobs} overridden to 1 by setting random_state. Use no seed for parallelism.\")\n",
      "/Users/wejarrard/projects/tf-binding/.venv/lib/python3.10/site-packages/sklearn/manifold/_spectral_embedding.py:329: UserWarning: Graph is not fully connected, spectral embedding may not work as expected.\n",
      "  warnings.warn(\n",
      "/var/folders/0m/90sjqm9d78l50t2x2lmdrztm0000gn/T/ipykernel_33377/961132158.py:232: UserWarning: You passed a edgecolor/edgecolors ('w') for an unfilled marker ('x').  Matplotlib is ignoring the edgecolor in favor of the facecolor.  This behavior may change in the future.\n",
      "  axes[1].scatter(\n"
     ]
    },
    {
     "name": "stdout",
     "output_type": "stream",
     "text": [
      "Generated plot for subset 'combined': UMAP_combined_n3_md0.1_nc2.png\n"
     ]
    },
    {
     "name": "stderr",
     "output_type": "stream",
     "text": [
      "/Users/wejarrard/projects/tf-binding/.venv/lib/python3.10/site-packages/umap/umap_.py:1945: UserWarning: n_jobs value 1 overridden to 1 by setting random_state. Use no seed for parallelism.\n",
      "  warn(f\"n_jobs value {self.n_jobs} overridden to 1 by setting random_state. Use no seed for parallelism.\")\n",
      "/Users/wejarrard/projects/tf-binding/.venv/lib/python3.10/site-packages/sklearn/manifold/_spectral_embedding.py:329: UserWarning: Graph is not fully connected, spectral embedding may not work as expected.\n",
      "  warnings.warn(\n",
      "/var/folders/0m/90sjqm9d78l50t2x2lmdrztm0000gn/T/ipykernel_33377/961132158.py:232: UserWarning: You passed a edgecolor/edgecolors ('w') for an unfilled marker ('x').  Matplotlib is ignoring the edgecolor in favor of the facecolor.  This behavior may change in the future.\n",
      "  axes[1].scatter(\n"
     ]
    },
    {
     "name": "stdout",
     "output_type": "stream",
     "text": [
      "Generated plot for subset 'combined': UMAP_combined_n3_md0.3_nc2.png\n"
     ]
    },
    {
     "name": "stderr",
     "output_type": "stream",
     "text": [
      "/Users/wejarrard/projects/tf-binding/.venv/lib/python3.10/site-packages/umap/umap_.py:1945: UserWarning: n_jobs value 1 overridden to 1 by setting random_state. Use no seed for parallelism.\n",
      "  warn(f\"n_jobs value {self.n_jobs} overridden to 1 by setting random_state. Use no seed for parallelism.\")\n",
      "/Users/wejarrard/projects/tf-binding/.venv/lib/python3.10/site-packages/sklearn/manifold/_spectral_embedding.py:329: UserWarning: Graph is not fully connected, spectral embedding may not work as expected.\n",
      "  warnings.warn(\n",
      "/var/folders/0m/90sjqm9d78l50t2x2lmdrztm0000gn/T/ipykernel_33377/961132158.py:232: UserWarning: You passed a edgecolor/edgecolors ('w') for an unfilled marker ('x').  Matplotlib is ignoring the edgecolor in favor of the facecolor.  This behavior may change in the future.\n",
      "  axes[1].scatter(\n"
     ]
    },
    {
     "name": "stdout",
     "output_type": "stream",
     "text": [
      "Generated plot for subset 'combined': UMAP_combined_n3_md0.5_nc2.png\n"
     ]
    },
    {
     "name": "stderr",
     "output_type": "stream",
     "text": [
      "/Users/wejarrard/projects/tf-binding/.venv/lib/python3.10/site-packages/umap/umap_.py:1945: UserWarning: n_jobs value 1 overridden to 1 by setting random_state. Use no seed for parallelism.\n",
      "  warn(f\"n_jobs value {self.n_jobs} overridden to 1 by setting random_state. Use no seed for parallelism.\")\n",
      "/var/folders/0m/90sjqm9d78l50t2x2lmdrztm0000gn/T/ipykernel_33377/961132158.py:232: UserWarning: You passed a edgecolor/edgecolors ('w') for an unfilled marker ('x').  Matplotlib is ignoring the edgecolor in favor of the facecolor.  This behavior may change in the future.\n",
      "  axes[1].scatter(\n"
     ]
    },
    {
     "name": "stdout",
     "output_type": "stream",
     "text": [
      "Generated plot for subset 'combined': UMAP_combined_n5_md0.01_nc2.png\n"
     ]
    },
    {
     "name": "stderr",
     "output_type": "stream",
     "text": [
      "/Users/wejarrard/projects/tf-binding/.venv/lib/python3.10/site-packages/umap/umap_.py:1945: UserWarning: n_jobs value 1 overridden to 1 by setting random_state. Use no seed for parallelism.\n",
      "  warn(f\"n_jobs value {self.n_jobs} overridden to 1 by setting random_state. Use no seed for parallelism.\")\n",
      "/var/folders/0m/90sjqm9d78l50t2x2lmdrztm0000gn/T/ipykernel_33377/961132158.py:232: UserWarning: You passed a edgecolor/edgecolors ('w') for an unfilled marker ('x').  Matplotlib is ignoring the edgecolor in favor of the facecolor.  This behavior may change in the future.\n",
      "  axes[1].scatter(\n"
     ]
    },
    {
     "name": "stdout",
     "output_type": "stream",
     "text": [
      "Generated plot for subset 'combined': UMAP_combined_n5_md0.1_nc2.png\n"
     ]
    },
    {
     "name": "stderr",
     "output_type": "stream",
     "text": [
      "/Users/wejarrard/projects/tf-binding/.venv/lib/python3.10/site-packages/umap/umap_.py:1945: UserWarning: n_jobs value 1 overridden to 1 by setting random_state. Use no seed for parallelism.\n",
      "  warn(f\"n_jobs value {self.n_jobs} overridden to 1 by setting random_state. Use no seed for parallelism.\")\n",
      "/var/folders/0m/90sjqm9d78l50t2x2lmdrztm0000gn/T/ipykernel_33377/961132158.py:232: UserWarning: You passed a edgecolor/edgecolors ('w') for an unfilled marker ('x').  Matplotlib is ignoring the edgecolor in favor of the facecolor.  This behavior may change in the future.\n",
      "  axes[1].scatter(\n"
     ]
    },
    {
     "name": "stdout",
     "output_type": "stream",
     "text": [
      "Generated plot for subset 'combined': UMAP_combined_n5_md0.3_nc2.png\n"
     ]
    },
    {
     "name": "stderr",
     "output_type": "stream",
     "text": [
      "/Users/wejarrard/projects/tf-binding/.venv/lib/python3.10/site-packages/umap/umap_.py:1945: UserWarning: n_jobs value 1 overridden to 1 by setting random_state. Use no seed for parallelism.\n",
      "  warn(f\"n_jobs value {self.n_jobs} overridden to 1 by setting random_state. Use no seed for parallelism.\")\n",
      "/var/folders/0m/90sjqm9d78l50t2x2lmdrztm0000gn/T/ipykernel_33377/961132158.py:232: UserWarning: You passed a edgecolor/edgecolors ('w') for an unfilled marker ('x').  Matplotlib is ignoring the edgecolor in favor of the facecolor.  This behavior may change in the future.\n",
      "  axes[1].scatter(\n"
     ]
    },
    {
     "name": "stdout",
     "output_type": "stream",
     "text": [
      "Generated plot for subset 'combined': UMAP_combined_n5_md0.5_nc2.png\n"
     ]
    },
    {
     "name": "stderr",
     "output_type": "stream",
     "text": [
      "/Users/wejarrard/projects/tf-binding/.venv/lib/python3.10/site-packages/umap/umap_.py:1945: UserWarning: n_jobs value 1 overridden to 1 by setting random_state. Use no seed for parallelism.\n",
      "  warn(f\"n_jobs value {self.n_jobs} overridden to 1 by setting random_state. Use no seed for parallelism.\")\n",
      "/var/folders/0m/90sjqm9d78l50t2x2lmdrztm0000gn/T/ipykernel_33377/961132158.py:232: UserWarning: You passed a edgecolor/edgecolors ('w') for an unfilled marker ('x').  Matplotlib is ignoring the edgecolor in favor of the facecolor.  This behavior may change in the future.\n",
      "  axes[1].scatter(\n"
     ]
    },
    {
     "name": "stdout",
     "output_type": "stream",
     "text": [
      "Generated plot for subset 'combined': UMAP_combined_n10_md0.01_nc2.png\n"
     ]
    },
    {
     "name": "stderr",
     "output_type": "stream",
     "text": [
      "/Users/wejarrard/projects/tf-binding/.venv/lib/python3.10/site-packages/umap/umap_.py:1945: UserWarning: n_jobs value 1 overridden to 1 by setting random_state. Use no seed for parallelism.\n",
      "  warn(f\"n_jobs value {self.n_jobs} overridden to 1 by setting random_state. Use no seed for parallelism.\")\n",
      "/var/folders/0m/90sjqm9d78l50t2x2lmdrztm0000gn/T/ipykernel_33377/961132158.py:232: UserWarning: You passed a edgecolor/edgecolors ('w') for an unfilled marker ('x').  Matplotlib is ignoring the edgecolor in favor of the facecolor.  This behavior may change in the future.\n",
      "  axes[1].scatter(\n"
     ]
    },
    {
     "name": "stdout",
     "output_type": "stream",
     "text": [
      "Generated plot for subset 'combined': UMAP_combined_n10_md0.1_nc2.png\n"
     ]
    },
    {
     "name": "stderr",
     "output_type": "stream",
     "text": [
      "/Users/wejarrard/projects/tf-binding/.venv/lib/python3.10/site-packages/umap/umap_.py:1945: UserWarning: n_jobs value 1 overridden to 1 by setting random_state. Use no seed for parallelism.\n",
      "  warn(f\"n_jobs value {self.n_jobs} overridden to 1 by setting random_state. Use no seed for parallelism.\")\n",
      "/var/folders/0m/90sjqm9d78l50t2x2lmdrztm0000gn/T/ipykernel_33377/961132158.py:232: UserWarning: You passed a edgecolor/edgecolors ('w') for an unfilled marker ('x').  Matplotlib is ignoring the edgecolor in favor of the facecolor.  This behavior may change in the future.\n",
      "  axes[1].scatter(\n"
     ]
    },
    {
     "name": "stdout",
     "output_type": "stream",
     "text": [
      "Generated plot for subset 'combined': UMAP_combined_n10_md0.3_nc2.png\n"
     ]
    },
    {
     "name": "stderr",
     "output_type": "stream",
     "text": [
      "/Users/wejarrard/projects/tf-binding/.venv/lib/python3.10/site-packages/umap/umap_.py:1945: UserWarning: n_jobs value 1 overridden to 1 by setting random_state. Use no seed for parallelism.\n",
      "  warn(f\"n_jobs value {self.n_jobs} overridden to 1 by setting random_state. Use no seed for parallelism.\")\n",
      "/var/folders/0m/90sjqm9d78l50t2x2lmdrztm0000gn/T/ipykernel_33377/961132158.py:232: UserWarning: You passed a edgecolor/edgecolors ('w') for an unfilled marker ('x').  Matplotlib is ignoring the edgecolor in favor of the facecolor.  This behavior may change in the future.\n",
      "  axes[1].scatter(\n"
     ]
    },
    {
     "name": "stdout",
     "output_type": "stream",
     "text": [
      "Generated plot for subset 'combined': UMAP_combined_n10_md0.5_nc2.png\n"
     ]
    },
    {
     "name": "stderr",
     "output_type": "stream",
     "text": [
      "/Users/wejarrard/projects/tf-binding/.venv/lib/python3.10/site-packages/umap/umap_.py:1945: UserWarning: n_jobs value 1 overridden to 1 by setting random_state. Use no seed for parallelism.\n",
      "  warn(f\"n_jobs value {self.n_jobs} overridden to 1 by setting random_state. Use no seed for parallelism.\")\n",
      "/Users/wejarrard/projects/tf-binding/.venv/lib/python3.10/site-packages/sklearn/manifold/_spectral_embedding.py:329: UserWarning: Graph is not fully connected, spectral embedding may not work as expected.\n",
      "  warnings.warn(\n",
      "/var/folders/0m/90sjqm9d78l50t2x2lmdrztm0000gn/T/ipykernel_33377/961132158.py:232: UserWarning: You passed a edgecolor/edgecolors ('w') for an unfilled marker ('x').  Matplotlib is ignoring the edgecolor in favor of the facecolor.  This behavior may change in the future.\n",
      "  axes[1].scatter(\n"
     ]
    },
    {
     "name": "stdout",
     "output_type": "stream",
     "text": [
      "Generated plot for subset 'TP_FP': UMAP_TP_FP_n3_md0.01_nc2.png\n"
     ]
    },
    {
     "name": "stderr",
     "output_type": "stream",
     "text": [
      "/Users/wejarrard/projects/tf-binding/.venv/lib/python3.10/site-packages/umap/umap_.py:1945: UserWarning: n_jobs value 1 overridden to 1 by setting random_state. Use no seed for parallelism.\n",
      "  warn(f\"n_jobs value {self.n_jobs} overridden to 1 by setting random_state. Use no seed for parallelism.\")\n",
      "/Users/wejarrard/projects/tf-binding/.venv/lib/python3.10/site-packages/sklearn/manifold/_spectral_embedding.py:329: UserWarning: Graph is not fully connected, spectral embedding may not work as expected.\n",
      "  warnings.warn(\n",
      "/var/folders/0m/90sjqm9d78l50t2x2lmdrztm0000gn/T/ipykernel_33377/961132158.py:232: UserWarning: You passed a edgecolor/edgecolors ('w') for an unfilled marker ('x').  Matplotlib is ignoring the edgecolor in favor of the facecolor.  This behavior may change in the future.\n",
      "  axes[1].scatter(\n"
     ]
    },
    {
     "name": "stdout",
     "output_type": "stream",
     "text": [
      "Generated plot for subset 'TP_FP': UMAP_TP_FP_n3_md0.1_nc2.png\n"
     ]
    },
    {
     "name": "stderr",
     "output_type": "stream",
     "text": [
      "/Users/wejarrard/projects/tf-binding/.venv/lib/python3.10/site-packages/umap/umap_.py:1945: UserWarning: n_jobs value 1 overridden to 1 by setting random_state. Use no seed for parallelism.\n",
      "  warn(f\"n_jobs value {self.n_jobs} overridden to 1 by setting random_state. Use no seed for parallelism.\")\n",
      "/Users/wejarrard/projects/tf-binding/.venv/lib/python3.10/site-packages/sklearn/manifold/_spectral_embedding.py:329: UserWarning: Graph is not fully connected, spectral embedding may not work as expected.\n",
      "  warnings.warn(\n",
      "/var/folders/0m/90sjqm9d78l50t2x2lmdrztm0000gn/T/ipykernel_33377/961132158.py:232: UserWarning: You passed a edgecolor/edgecolors ('w') for an unfilled marker ('x').  Matplotlib is ignoring the edgecolor in favor of the facecolor.  This behavior may change in the future.\n",
      "  axes[1].scatter(\n"
     ]
    },
    {
     "name": "stdout",
     "output_type": "stream",
     "text": [
      "Generated plot for subset 'TP_FP': UMAP_TP_FP_n3_md0.3_nc2.png\n"
     ]
    },
    {
     "name": "stderr",
     "output_type": "stream",
     "text": [
      "/Users/wejarrard/projects/tf-binding/.venv/lib/python3.10/site-packages/umap/umap_.py:1945: UserWarning: n_jobs value 1 overridden to 1 by setting random_state. Use no seed for parallelism.\n",
      "  warn(f\"n_jobs value {self.n_jobs} overridden to 1 by setting random_state. Use no seed for parallelism.\")\n",
      "/Users/wejarrard/projects/tf-binding/.venv/lib/python3.10/site-packages/sklearn/manifold/_spectral_embedding.py:329: UserWarning: Graph is not fully connected, spectral embedding may not work as expected.\n",
      "  warnings.warn(\n",
      "/var/folders/0m/90sjqm9d78l50t2x2lmdrztm0000gn/T/ipykernel_33377/961132158.py:232: UserWarning: You passed a edgecolor/edgecolors ('w') for an unfilled marker ('x').  Matplotlib is ignoring the edgecolor in favor of the facecolor.  This behavior may change in the future.\n",
      "  axes[1].scatter(\n"
     ]
    },
    {
     "name": "stdout",
     "output_type": "stream",
     "text": [
      "Generated plot for subset 'TP_FP': UMAP_TP_FP_n3_md0.5_nc2.png\n"
     ]
    },
    {
     "name": "stderr",
     "output_type": "stream",
     "text": [
      "/Users/wejarrard/projects/tf-binding/.venv/lib/python3.10/site-packages/umap/umap_.py:1945: UserWarning: n_jobs value 1 overridden to 1 by setting random_state. Use no seed for parallelism.\n",
      "  warn(f\"n_jobs value {self.n_jobs} overridden to 1 by setting random_state. Use no seed for parallelism.\")\n",
      "/var/folders/0m/90sjqm9d78l50t2x2lmdrztm0000gn/T/ipykernel_33377/961132158.py:232: UserWarning: You passed a edgecolor/edgecolors ('w') for an unfilled marker ('x').  Matplotlib is ignoring the edgecolor in favor of the facecolor.  This behavior may change in the future.\n",
      "  axes[1].scatter(\n"
     ]
    },
    {
     "name": "stdout",
     "output_type": "stream",
     "text": [
      "Generated plot for subset 'TP_FP': UMAP_TP_FP_n5_md0.01_nc2.png\n"
     ]
    },
    {
     "name": "stderr",
     "output_type": "stream",
     "text": [
      "/Users/wejarrard/projects/tf-binding/.venv/lib/python3.10/site-packages/umap/umap_.py:1945: UserWarning: n_jobs value 1 overridden to 1 by setting random_state. Use no seed for parallelism.\n",
      "  warn(f\"n_jobs value {self.n_jobs} overridden to 1 by setting random_state. Use no seed for parallelism.\")\n",
      "/var/folders/0m/90sjqm9d78l50t2x2lmdrztm0000gn/T/ipykernel_33377/961132158.py:232: UserWarning: You passed a edgecolor/edgecolors ('w') for an unfilled marker ('x').  Matplotlib is ignoring the edgecolor in favor of the facecolor.  This behavior may change in the future.\n",
      "  axes[1].scatter(\n"
     ]
    },
    {
     "name": "stdout",
     "output_type": "stream",
     "text": [
      "Generated plot for subset 'TP_FP': UMAP_TP_FP_n5_md0.1_nc2.png\n"
     ]
    },
    {
     "name": "stderr",
     "output_type": "stream",
     "text": [
      "/Users/wejarrard/projects/tf-binding/.venv/lib/python3.10/site-packages/umap/umap_.py:1945: UserWarning: n_jobs value 1 overridden to 1 by setting random_state. Use no seed for parallelism.\n",
      "  warn(f\"n_jobs value {self.n_jobs} overridden to 1 by setting random_state. Use no seed for parallelism.\")\n",
      "/var/folders/0m/90sjqm9d78l50t2x2lmdrztm0000gn/T/ipykernel_33377/961132158.py:232: UserWarning: You passed a edgecolor/edgecolors ('w') for an unfilled marker ('x').  Matplotlib is ignoring the edgecolor in favor of the facecolor.  This behavior may change in the future.\n",
      "  axes[1].scatter(\n"
     ]
    },
    {
     "name": "stdout",
     "output_type": "stream",
     "text": [
      "Generated plot for subset 'TP_FP': UMAP_TP_FP_n5_md0.3_nc2.png\n"
     ]
    },
    {
     "name": "stderr",
     "output_type": "stream",
     "text": [
      "/Users/wejarrard/projects/tf-binding/.venv/lib/python3.10/site-packages/umap/umap_.py:1945: UserWarning: n_jobs value 1 overridden to 1 by setting random_state. Use no seed for parallelism.\n",
      "  warn(f\"n_jobs value {self.n_jobs} overridden to 1 by setting random_state. Use no seed for parallelism.\")\n",
      "/var/folders/0m/90sjqm9d78l50t2x2lmdrztm0000gn/T/ipykernel_33377/961132158.py:232: UserWarning: You passed a edgecolor/edgecolors ('w') for an unfilled marker ('x').  Matplotlib is ignoring the edgecolor in favor of the facecolor.  This behavior may change in the future.\n",
      "  axes[1].scatter(\n"
     ]
    },
    {
     "name": "stdout",
     "output_type": "stream",
     "text": [
      "Generated plot for subset 'TP_FP': UMAP_TP_FP_n5_md0.5_nc2.png\n"
     ]
    },
    {
     "name": "stderr",
     "output_type": "stream",
     "text": [
      "/Users/wejarrard/projects/tf-binding/.venv/lib/python3.10/site-packages/umap/umap_.py:1945: UserWarning: n_jobs value 1 overridden to 1 by setting random_state. Use no seed for parallelism.\n",
      "  warn(f\"n_jobs value {self.n_jobs} overridden to 1 by setting random_state. Use no seed for parallelism.\")\n",
      "/var/folders/0m/90sjqm9d78l50t2x2lmdrztm0000gn/T/ipykernel_33377/961132158.py:232: UserWarning: You passed a edgecolor/edgecolors ('w') for an unfilled marker ('x').  Matplotlib is ignoring the edgecolor in favor of the facecolor.  This behavior may change in the future.\n",
      "  axes[1].scatter(\n"
     ]
    },
    {
     "name": "stdout",
     "output_type": "stream",
     "text": [
      "Generated plot for subset 'TP_FP': UMAP_TP_FP_n10_md0.01_nc2.png\n"
     ]
    },
    {
     "name": "stderr",
     "output_type": "stream",
     "text": [
      "/Users/wejarrard/projects/tf-binding/.venv/lib/python3.10/site-packages/umap/umap_.py:1945: UserWarning: n_jobs value 1 overridden to 1 by setting random_state. Use no seed for parallelism.\n",
      "  warn(f\"n_jobs value {self.n_jobs} overridden to 1 by setting random_state. Use no seed for parallelism.\")\n",
      "/var/folders/0m/90sjqm9d78l50t2x2lmdrztm0000gn/T/ipykernel_33377/961132158.py:232: UserWarning: You passed a edgecolor/edgecolors ('w') for an unfilled marker ('x').  Matplotlib is ignoring the edgecolor in favor of the facecolor.  This behavior may change in the future.\n",
      "  axes[1].scatter(\n"
     ]
    },
    {
     "name": "stdout",
     "output_type": "stream",
     "text": [
      "Generated plot for subset 'TP_FP': UMAP_TP_FP_n10_md0.1_nc2.png\n"
     ]
    },
    {
     "name": "stderr",
     "output_type": "stream",
     "text": [
      "/Users/wejarrard/projects/tf-binding/.venv/lib/python3.10/site-packages/umap/umap_.py:1945: UserWarning: n_jobs value 1 overridden to 1 by setting random_state. Use no seed for parallelism.\n",
      "  warn(f\"n_jobs value {self.n_jobs} overridden to 1 by setting random_state. Use no seed for parallelism.\")\n",
      "/var/folders/0m/90sjqm9d78l50t2x2lmdrztm0000gn/T/ipykernel_33377/961132158.py:232: UserWarning: You passed a edgecolor/edgecolors ('w') for an unfilled marker ('x').  Matplotlib is ignoring the edgecolor in favor of the facecolor.  This behavior may change in the future.\n",
      "  axes[1].scatter(\n"
     ]
    },
    {
     "name": "stdout",
     "output_type": "stream",
     "text": [
      "Generated plot for subset 'TP_FP': UMAP_TP_FP_n10_md0.3_nc2.png\n"
     ]
    },
    {
     "name": "stderr",
     "output_type": "stream",
     "text": [
      "/Users/wejarrard/projects/tf-binding/.venv/lib/python3.10/site-packages/umap/umap_.py:1945: UserWarning: n_jobs value 1 overridden to 1 by setting random_state. Use no seed for parallelism.\n",
      "  warn(f\"n_jobs value {self.n_jobs} overridden to 1 by setting random_state. Use no seed for parallelism.\")\n",
      "/var/folders/0m/90sjqm9d78l50t2x2lmdrztm0000gn/T/ipykernel_33377/961132158.py:232: UserWarning: You passed a edgecolor/edgecolors ('w') for an unfilled marker ('x').  Matplotlib is ignoring the edgecolor in favor of the facecolor.  This behavior may change in the future.\n",
      "  axes[1].scatter(\n"
     ]
    },
    {
     "name": "stdout",
     "output_type": "stream",
     "text": [
      "Generated plot for subset 'TP_FP': UMAP_TP_FP_n10_md0.5_nc2.png\n",
      "All UMAP plots generated successfully.\n"
     ]
    }
   ],
   "source": [
    "# ============================\n",
    "# 1. Extract Feature Columns\n",
    "# ============================\n",
    "feature_columns = [f'feature_{i}' for i in range(512)]\n",
    "feature_data = df[feature_columns].values  # Use .values for faster processing\n",
    "\n",
    "# ============================\n",
    "# 2. Label Definitions\n",
    "# ============================\n",
    "\n",
    "# 2.1. Probability Coloring (Numeric)\n",
    "probabilities = df['probabilities']\n",
    "\n",
    "# 2.2. Motif Coloring ('AGGAACAGTCAGCAG', 'ACTTGGGCATTCTCA', 'Not')\n",
    "# Define the specific motifs to highlight\n",
    "specific_motifs = ['AGGAACAGTCAGCAG', 'ACTTGGGCATTCTCA']\n",
    "\n",
    "# Create a new column for motif labels\n",
    "df['motif_label'] = np.where(df['motifs'].isin(specific_motifs), df['motifs'], 'Not')\n",
    "\n",
    "# 2.3. Confusion Matrix Labeling (TP, FP, TN, FN)\n",
    "conditions = [\n",
    "    (df['targets'] == 1) & (df['predicted'] == 1),  # True Positive\n",
    "    (df['targets'] == 0) & (df['predicted'] == 1),  # False Positive\n",
    "    (df['targets'] == 0) & (df['predicted'] == 0),  # True Negative\n",
    "    (df['targets'] == 1) & (df['predicted'] == 0),  # False Negative\n",
    "]\n",
    "choices = ['TP', 'FP', 'TN', 'FN']\n",
    "df['confusion_matrix_label'] = np.select(conditions, choices, default='Unknown')\n",
    "\n",
    "# 2.3. Confusion Matrix Labeling 0.9 (TP, FP, TN, FN)\n",
    "df['predicted_0.9'] = df['probabilities'].apply(lambda x: 1 if x > 0.9 else 0)\n",
    "conditions_09 = [\n",
    "    (df['targets'] == 1) & (df['predicted_0.9'] == 1),  # True Positive\n",
    "    (df['targets'] == 0) & (df['predicted_0.9'] == 1),  # False Positive\n",
    "    (df['targets'] == 0) & (df['predicted_0.9'] == 0),  # True Negative\n",
    "    (df['targets'] == 1) & (df['predicted_0.9'] == 0),  # False Negative\n",
    "]\n",
    "df['confusion_matrix_label_0.9'] = np.select(conditions_09, choices, default='Unknown')\n",
    "\n",
    "# .95\n",
    "df['predicted_0.95'] = df['probabilities'].apply(lambda x: 1 if x > 0.95 else 0)\n",
    "conditions_095 = [\n",
    "    (df['targets'] == 1) & (df['predicted_0.95'] == 1),  # True Positive\n",
    "    (df['targets'] == 0) & (df['predicted_0.95'] == 1),  # False Positive\n",
    "    (df['targets'] == 0) & (df['predicted_0.95'] == 0),  # True Negative\n",
    "    (df['targets'] == 1) & (df['predicted_0.95'] == 0),  # False Negative\n",
    "]\n",
    "df['confusion_matrix_label_0.95'] = np.select(conditions_095, choices, default='Unknown')\n",
    "\n",
    "\n",
    "# .99\n",
    "df['predicted_0.99'] = df['probabilities'].apply(lambda x: 1 if x > 0.99 else 0)\n",
    "conditions_099 = [\n",
    "    (df['targets'] == 1) & (df['predicted_0.99'] == 1),  # True Positive\n",
    "    (df['targets'] == 0) & (df['predicted_0.99'] == 1),  # False Positive\n",
    "    (df['targets'] == 0) & (df['predicted_0.99'] == 0),  # True Negative\n",
    "    (df['targets'] == 1) & (df['predicted_0.99'] == 0),  # False Negative\n",
    "]\n",
    "df['confusion_matrix_label_0.99'] = np.select(conditions_099, choices, default='Unknown')\n",
    "\n",
    "# .999\n",
    "df['predicted_0.999'] = df['probabilities'].apply(lambda x: 1 if x > 0.999 else 0)\n",
    "conditions_0999 = [\n",
    "    (df['targets'] == 1) & (df['predicted_0.999'] == 1),  # True Positive\n",
    "    (df['targets'] == 0) & (df['predicted_0.999'] == 1),  # False Positive\n",
    "    (df['targets'] == 0) & (df['predicted_0.999'] == 0),  # True Negative\n",
    "    (df['targets'] == 1) & (df['predicted_0.999'] == 0),  # False Negative\n",
    "]\n",
    "df['confusion_matrix_label_0.999'] = np.select(conditions_0999, choices, default='Unknown')\n",
    "\n",
    "# 2.4. Weights Labeling\n",
    "# Assuming 'weights' is an integer column\n",
    "weights = df['weights']\n",
    "\n",
    "# ============================\n",
    "# 3. Color and Marker Mapping\n",
    "# ============================\n",
    "\n",
    "# 3.1. Motif Coloring Map\n",
    "motif_color_map = {\n",
    "    'AGGAACAGTCAGCAG': 'green',\n",
    "    'ACTTGGGCATTCTCA': 'blue',\n",
    "    'Not': 'red'\n",
    "}\n",
    "\n",
    "# 3.2. Motif Marker Map and Sizes\n",
    "motif_marker_map = {\n",
    "    'AGGAACAGTCAGCAG': ('o', 50),   # Circle, larger size\n",
    "    'ACTTGGGCATTCTCA': ('s', 50),   # Square, larger size\n",
    "    'Not': ('x', 10)                  # Cross, smaller size\n",
    "}\n",
    "\n",
    "# 3.3. Confusion Matrix Coloring Map\n",
    "confusion_matrix_color_map = {\n",
    "    'TP': 'green',\n",
    "    'FP': 'red',\n",
    "    'TN': 'blue',\n",
    "    'FN': 'orange',\n",
    "    'Unknown': 'gray'\n",
    "}\n",
    "\n",
    "# 3.4. Weights Coloring Map\n",
    "# Since 'weights' are integers, map each unique weight to a distinct color\n",
    "unique_weights = sorted(df['weights'].unique())\n",
    "num_weights = len(unique_weights)\n",
    "\n",
    "# Choose a colormap with enough distinct colors\n",
    "# 'tab10' has 10 distinct colors; use 'tab20' if more are needed\n",
    "if num_weights <= 10:\n",
    "    weights_cmap = plt.get_cmap('tab10')\n",
    "elif num_weights <= 20:\n",
    "    weights_cmap = plt.get_cmap('tab20')\n",
    "else:\n",
    "    # For more than 20 classes, use a larger colormap or repeat colors\n",
    "    weights_cmap = plt.get_cmap('tab20')\n",
    "    print(\"Warning: More than 20 unique weights detected. Colors may repeat.\")\n",
    "\n",
    "# Assign a unique color to each weight\n",
    "weights_colors = weights_cmap(np.linspace(0, 1, num_weights))\n",
    "weight_color_map = {weight: colors for weight, colors in zip(unique_weights, weights_colors)}\n",
    "\n",
    "# ============================\n",
    "# 4. Hyperparameter Setup\n",
    "# ============================\n",
    "\n",
    "# Define hyperparameter ranges\n",
    "n_neighbors_values = [3, 5, 10]  # You can expand this list as needed\n",
    "min_dist_values = [0.01, 0.1, 0.3, 0.5]\n",
    "n_components_values = [2]  # Keep it 2 for 2D plots; add 3 for 3D if desired\n",
    "\n",
    "# ============================\n",
    "# 5. Output Directories Setup\n",
    "# ============================\n",
    "\n",
    "# Define output directories for combined, TP, and FP plots\n",
    "output_dirs = {\n",
    "    'combined': \"umap_plots_combined\",\n",
    "    'TP_FP': \"umap_plots_TP_FP\"\n",
    "}\n",
    "\n",
    "for dir_path in output_dirs.values():\n",
    "    os.makedirs(dir_path, exist_ok=True)\n",
    "\n",
    "# ============================\n",
    "# 6. Define Subsets\n",
    "# ============================\n",
    "\n",
    "# Define the subsets for plotting\n",
    "subsets = {\n",
    "    'combined': df,\n",
    "    'TP_FP': df[df['confusion_matrix_label'].isin(['TP', 'FP'])]\n",
    "}\n",
    "\n",
    "# ============================\n",
    "# 7. Define UMAP Plotting Function\n",
    "# ============================\n",
    "\n",
    "def generate_umap_plots(subset_name, subset_df, output_dir):\n",
    "    \"\"\"\n",
    "    Generates UMAP plots for a given subset of the data.\n",
    "\n",
    "    Parameters:\n",
    "    - subset_name: str, name of the subset (e.g., 'combined', 'TP', 'FP')\n",
    "    - subset_df: pandas DataFrame, the subset of data to plot\n",
    "    - output_dir: str, directory to save the plots\n",
    "    \"\"\"\n",
    "    if subset_df.empty:\n",
    "        print(f\"Subset '{subset_name}' is empty. Skipping...\")\n",
    "        return\n",
    "\n",
    "    feature_data_subset = subset_df[feature_columns].values\n",
    "    probabilities_subset = subset_df['probabilities']\n",
    "    motif_label_subset = subset_df['motif_label']\n",
    "    confusion_matrix_label_subset = subset_df['confusion_matrix_label']\n",
    "    weights_subset = subset_df['weights']\n",
    "\n",
    "    # Assign colors for weights in the subset\n",
    "    subset_unique_weights = sorted(subset_df['weights'].unique())\n",
    "    subset_num_weights = len(subset_unique_weights)\n",
    "\n",
    "    if subset_num_weights <= 10:\n",
    "        subset_weights_cmap = plt.get_cmap('tab10')\n",
    "    elif subset_num_weights <= 20:\n",
    "        subset_weights_cmap = plt.get_cmap('tab20')\n",
    "    else:\n",
    "        subset_weights_cmap = plt.get_cmap('tab20')\n",
    "        print(f\"Warning: More than 20 unique weights detected in subset '{subset_name}'. Colors may repeat.\")\n",
    "\n",
    "    subset_weights_colors = subset_weights_cmap(np.linspace(0, 1, subset_num_weights))\n",
    "    subset_weight_color_map = {weight: colors for weight, colors in zip(subset_unique_weights, subset_weights_colors)}\n",
    "\n",
    "    # Define UMAP hyperparameters\n",
    "    for n_neighbors in n_neighbors_values:\n",
    "        for min_dist in min_dist_values:\n",
    "            for n_components in n_components_values:\n",
    "                # Initialize UMAP with current hyperparameters\n",
    "                reducer = umap.UMAP(\n",
    "                    n_neighbors=n_neighbors,\n",
    "                    min_dist=min_dist,\n",
    "                    n_components=n_components,\n",
    "                    random_state=42  # Ensures reproducibility\n",
    "                )\n",
    "\n",
    "                # Fit and transform the data\n",
    "                embedding = reducer.fit_transform(feature_data_subset)\n",
    "\n",
    "                # Initialize the plot\n",
    "                fig, axes = plt.subplots(3, 3, figsize=(24, 21))\n",
    "                axes = axes.flatten()\n",
    "\n",
    "                # Plot 1: Probability Coloring\n",
    "                scatter1 = axes[0].scatter(\n",
    "                    embedding[:, 0],\n",
    "                    embedding[:, 1],\n",
    "                    c=probabilities_subset,\n",
    "                    cmap='viridis',\n",
    "                    s=5,\n",
    "                    alpha=0.7,\n",
    "                )\n",
    "                cbar1 = plt.colorbar(scatter1, ax=axes[0])\n",
    "                cbar1.set_label('Probabilities')\n",
    "                axes[0].set_title(f'UMAP ({subset_name})\\n n={n_neighbors}, md={min_dist} - Probabilities')\n",
    "                axes[0].set_xlabel('UMAP 1')\n",
    "                axes[0].set_ylabel('UMAP 2')\n",
    "\n",
    "                # Plot 2: Motif Coloring with Enhanced Visualization\n",
    "                unique_motifs_subset = subset_df['motif_label'].unique()\n",
    "                for motif in unique_motifs_subset:\n",
    "                    idx = subset_df['motif_label'] == motif\n",
    "                    marker, size = motif_marker_map.get(motif, ('o', 10))\n",
    "                    axes[1].scatter(\n",
    "                        embedding[idx, 0],\n",
    "                        embedding[idx, 1],\n",
    "                        c=[motif_color_map.get(motif, 'gray')],\n",
    "                        label=motif,\n",
    "                        marker=marker,\n",
    "                        s=size,\n",
    "                        alpha=0.9,\n",
    "                        edgecolors='w',  # Add white edges for better visibility\n",
    "                        linewidths=0.5\n",
    "                    )\n",
    "                axes[1].legend(title=\"Motif Label\", loc=\"best\")\n",
    "                axes[1].set_title(f'UMAP ({subset_name})\\n n={n_neighbors}, md={min_dist} - Motifs')\n",
    "                axes[1].set_xlabel('UMAP 1')\n",
    "                axes[1].set_ylabel('UMAP 2')\n",
    "\n",
    "                # Plot 3: Weights Coloring with Discrete Colors\n",
    "                for weight in subset_unique_weights:\n",
    "                    idx = subset_df['weights'] == weight\n",
    "                    axes[2].scatter(\n",
    "                        embedding[idx, 0],\n",
    "                        embedding[idx, 1],\n",
    "                        c=[subset_weight_color_map[weight]],\n",
    "                        label=str(weight),\n",
    "                        marker='D',  # Diamond marker for weights\n",
    "                        s=50,         # Larger size for better visibility\n",
    "                        alpha=0.7,\n",
    "                        edgecolors='w',\n",
    "                        linewidths=0.5\n",
    "                    )\n",
    "                axes[2].legend(title=\"Weights\", loc=\"best\", bbox_to_anchor=(1.05, 1))\n",
    "                axes[2].set_title(f'UMAP ({subset_name})\\n n={n_neighbors}, md={min_dist} - Weights')\n",
    "                axes[2].set_xlabel('UMAP 1')\n",
    "                axes[2].set_ylabel('UMAP 2')\n",
    "\n",
    "\n",
    "                # Plot 4: Confusion Matrix Coloring\n",
    "                unique_cm_labels_subset = subset_df['confusion_matrix_label'].unique()\n",
    "                for cm_label in unique_cm_labels_subset:\n",
    "                    idx = subset_df['confusion_matrix_label'] == cm_label\n",
    "                    axes[3].scatter(\n",
    "                        embedding[idx, 0],\n",
    "                        embedding[idx, 1],\n",
    "                        c=[confusion_matrix_color_map.get(cm_label, 'gray')],\n",
    "                        label=cm_label,\n",
    "                        s=5,\n",
    "                        alpha=0.7,\n",
    "                    )\n",
    "                axes[3].legend(title=\"Confusion Matrix Label\", loc=\"best\")\n",
    "                axes[3].set_title(f'UMAP ({subset_name})\\n n={n_neighbors}, md={min_dist} - Confusion Matrix')\n",
    "                axes[3].set_xlabel('UMAP 1')\n",
    "                axes[3].set_ylabel('UMAP 2')\n",
    "\n",
    "                # Plot 5: Confusion Matrix Coloring\n",
    "                unique_cm_labels_subset = subset_df['confusion_matrix_label_0.9'].unique()\n",
    "                for cm_label in unique_cm_labels_subset:\n",
    "                    idx = subset_df['confusion_matrix_label_0.9'] == cm_label\n",
    "                    axes[4].scatter(\n",
    "                        embedding[idx, 0],\n",
    "                        embedding[idx, 1],\n",
    "                        c=[confusion_matrix_color_map.get(cm_label, 'gray')],\n",
    "                        label=cm_label,\n",
    "                        s=5,\n",
    "                        alpha=0.7,\n",
    "                    )\n",
    "                axes[4].legend(title=\"Confusion Matrix Label 0.9\", loc=\"best\")\n",
    "                axes[4].set_title(f'UMAP ({subset_name})\\n n={n_neighbors}, md={min_dist} - Confusion Matrix')\n",
    "                axes[4].set_xlabel('UMAP 1')\n",
    "                axes[4].set_ylabel('UMAP 2')\n",
    "\n",
    "                # Plot 6: Confusion Matrix Coloring\n",
    "                unique_cm_labels_subset = subset_df['confusion_matrix_label_0.95'].unique()\n",
    "                for cm_label in unique_cm_labels_subset:\n",
    "                    idx = subset_df['confusion_matrix_label_0.95'] == cm_label\n",
    "                    axes[5].scatter(\n",
    "                        embedding[idx, 0],\n",
    "                        embedding[idx, 1],\n",
    "                        c=[confusion_matrix_color_map.get(cm_label, 'gray')],\n",
    "                        label=cm_label,\n",
    "                        s=5,\n",
    "                        alpha=0.7,\n",
    "                    )\n",
    "                axes[5].legend(title=\"Confusion Matrix Label 0.95\", loc=\"best\")\n",
    "                axes[5].set_title(f'UMAP ({subset_name})\\n n={n_neighbors}, md={min_dist} - Confusion Matrix')\n",
    "                axes[5].set_xlabel('UMAP 1')\n",
    "                axes[5].set_ylabel('UMAP 2')\n",
    "\n",
    "                # Plot 7: Confusion Matrix Coloring\n",
    "                unique_cm_labels_subset = subset_df['confusion_matrix_label_0.99'].unique()\n",
    "                for cm_label in unique_cm_labels_subset:\n",
    "                    idx = subset_df['confusion_matrix_label_0.99'] == cm_label\n",
    "                    axes[6].scatter(\n",
    "                        embedding[idx, 0],\n",
    "                        embedding[idx, 1],\n",
    "                        c=[confusion_matrix_color_map.get(cm_label, 'gray')],\n",
    "                        label=cm_label,\n",
    "                        s=5,\n",
    "                        alpha=0.7,\n",
    "                    )\n",
    "                axes[6].legend(title=\"Confusion Matrix Label 0.99\", loc=\"best\")\n",
    "                axes[6].set_title(f'UMAP ({subset_name})\\n n={n_neighbors}, md={min_dist} - Confusion Matrix')\n",
    "                axes[6].set_xlabel('UMAP 1')\n",
    "                axes[6].set_ylabel('UMAP 2')\n",
    "\n",
    "                # Plot 8: Confusion Matrix Coloring\n",
    "                unique_cm_labels_subset = subset_df['confusion_matrix_label_0.999'].unique()\n",
    "                for cm_label in unique_cm_labels_subset:\n",
    "                    idx = subset_df['confusion_matrix_label_0.999'] == cm_label\n",
    "                    axes[7].scatter(\n",
    "                        embedding[idx, 0],\n",
    "                        embedding[idx, 1],\n",
    "                        c=[confusion_matrix_color_map.get(cm_label, 'gray')],\n",
    "                        label=cm_label,\n",
    "                        s=5,\n",
    "                        alpha=0.7,\n",
    "                    )\n",
    "                axes[7].legend(title=\"Confusion Matrix Label 0.999\", loc=\"best\")\n",
    "                axes[7].set_title(f'UMAP ({subset_name})\\n n={n_neighbors}, md={min_dist} - Confusion Matrix')\n",
    "                axes[7].set_xlabel('UMAP 1')\n",
    "                axes[7].set_ylabel('UMAP 2')\n",
    "\n",
    "\n",
    "                # Adjust layout\n",
    "                plt.tight_layout()\n",
    "\n",
    "                # Save the combined plot\n",
    "                plot_filename = f\"UMAP_{subset_name}_n{n_neighbors}_md{min_dist}_nc{n_components}.png\"\n",
    "                plt.savefig(os.path.join(output_dir, plot_filename), dpi=300, bbox_inches='tight')\n",
    "                plt.close()\n",
    "\n",
    "                print(f\"Generated plot for subset '{subset_name}': {plot_filename}\")\n",
    "\n",
    "# ============================\n",
    "# 8. Generate Plots for Each Subset\n",
    "# ============================\n",
    "\n",
    "for subset_name, subset_df in subsets.items():\n",
    "    output_dir = output_dirs[subset_name]\n",
    "    generate_umap_plots(subset_name, subset_df, output_dir)\n",
    "\n",
    "print(\"All UMAP plots generated successfully.\")"
   ]
  },
  {
   "cell_type": "code",
   "execution_count": null,
   "metadata": {},
   "outputs": [],
   "source": []
  }
 ],
 "metadata": {
  "kernelspec": {
   "display_name": ".venv",
   "language": "python",
   "name": "python3"
  },
  "language_info": {
   "codemirror_mode": {
    "name": "ipython",
    "version": 3
   },
   "file_extension": ".py",
   "mimetype": "text/x-python",
   "name": "python",
   "nbconvert_exporter": "python",
   "pygments_lexer": "ipython3",
   "version": "3.10.10"
  }
 },
 "nbformat": 4,
 "nbformat_minor": 2
}
