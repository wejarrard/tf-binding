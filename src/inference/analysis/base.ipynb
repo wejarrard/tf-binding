{
 "cells": [
  {
   "cell_type": "code",
   "execution_count": null,
   "metadata": {},
   "outputs": [
    {
     "name": "stdout",
     "output_type": "stream",
     "text": [
      "sagemaker.config INFO - Not applying SDK defaults from location: /etc/xdg/sagemaker/config.yaml\n",
      "sagemaker.config INFO - Not applying SDK defaults from location: /data1/home/wjarrard/.config/sagemaker/config.yaml\n"
     ]
    }
   ],
   "source": [
    "import pyarrow as pa\n",
    "import os\n",
    "import sys\n",
    "import pandas as pd\n",
    "import numpy as np\n",
    "from pathlib import Path\n",
    "import polars as pl\n",
    "from typing import Union\n",
    "\n",
    "\n",
    "notebook_dir = os.path.dirname(os.path.abspath(\"__file__\"))\n",
    "sys.path.append(notebook_dir)\n",
    "from src.inference.aws_inference import process_jsonl_files\n",
    "\n",
    "\n",
    "project_path = \"/data1/datasets_1/human_cistrome/chip-atlas/peak_calls/tfbinding_scripts/tf-binding\"\n",
    "jaspar_file = \"/data1/datasets_1/human_cistrome/chip-atlas/peak_calls/tfbinding_scripts/tf-binding/src/inference/interpretability/motif.jaspar\"  # Update this path\n",
    "model = \"AR-log10\"\n",
    "sample = \"LuCaP_81\"\n",
    "ground_truth_file = \"/data1/datasets_1/human_prostate_PDX/processed/external_data/ChIP_atlas/AR/SRX8406456.05.bed\"\n",
    "\n",
    "df = pl.read_parquet(project_path + \"/data/processed_results/\" + model + \"_\" + sample + \"_processed.parquet\")\n",
    "df = df.rename({\"chr_name\": \"chr\"})\n",
    "df\n"
   ]
  },
  {
   "cell_type": "code",
   "execution_count": 6,
   "metadata": {},
   "outputs": [],
   "source": [
    "import tempfile\n",
    "from src.utils.generate_training_peaks import run_bedtools_command\n",
    "def intersect_bed_files(main_df: pl.DataFrame, intersect_df: pl.DataFrame, region_type: str = None) -> pl.DataFrame:\n",
    "    \"\"\"\n",
    "    Intersect two BED files using bedtools and return the original DataFrame with overlap flags.\n",
    "    \n",
    "    Args:\n",
    "        main_df: Primary Polars DataFrame with BED data\n",
    "        intersect_df: Secondary Polars DataFrame to intersect with\n",
    "        region_type: Optional region type label to add to results\n",
    "        \n",
    "    Returns:\n",
    "        Original DataFrame with additional column indicating overlaps\n",
    "    \"\"\"\n",
    "    with tempfile.NamedTemporaryFile(delete=False, mode='w') as main_file, \\\n",
    "         tempfile.NamedTemporaryFile(delete=False, mode='w') as intersect_file, \\\n",
    "         tempfile.NamedTemporaryFile(delete=False, mode='w') as result_file:\n",
    "        \n",
    "        main_path = main_file.name\n",
    "        intersect_path = intersect_file.name\n",
    "        result_path = result_file.name\n",
    "\n",
    "        # Write DataFrames to temporary files\n",
    "        main_df.write_csv(main_path, separator=\"\\t\", include_header=False)\n",
    "        intersect_df.write_csv(intersect_path, separator=\"\\t\", include_header=False)\n",
    "\n",
    "        # Run bedtools intersect with -c flag to count overlaps\n",
    "        command = f\"bedtools intersect -a {main_path} -b {intersect_path} -c > {result_path}\"\n",
    "        run_bedtools_command(command)\n",
    "\n",
    "        # Read results back into Polars DataFrame\n",
    "        result_df = pl.read_csv(\n",
    "            result_path,\n",
    "            separator=\"\\t\",\n",
    "            has_header=False,\n",
    "            new_columns=[*main_df.columns, \"overlap_count\"]\n",
    "        )\n",
    "\n",
    "    # Clean up temporary files\n",
    "    os.remove(main_path)\n",
    "    os.remove(intersect_path) \n",
    "    os.remove(result_path)\n",
    "\n",
    "    # Add boolean overlap column\n",
    "    result_df = result_df.with_columns(\n",
    "        pl.col(\"overlap_count\").gt(0).alias(\"overlaps_ground_truth\")\n",
    "    ).drop(\"overlap_count\")\n",
    "\n",
    "    return result_df\n",
    "\n",
    "df_ground_truth = pl.read_csv(ground_truth_file, \n",
    "                             separator=\"\\t\", \n",
    "                             has_header=False,\n",
    "                             new_columns=[\"chr\", \"start\", \"end\"],\n",
    "                             columns=[0,1,2])\n",
    "\n",
    "intersected_df = intersect_bed_files(df[[\"chr\", \"start\", \"end\"]], df_ground_truth)\n",
    "\n",
    "\n",
    "\n",
    "\n",
    "\n",
    "# add overlaps ground truth to df from intersected_df\n",
    "df = df.join(intersected_df, on=[\"chr\", \"start\", \"end\"], how=\"left\")\n",
    "# add overlaps_ground_truth to df under targets, 1 if overlaps_ground_truth is true, 0 otherwise\n",
    "df = df.with_columns(pl.when(pl.col(\"overlaps_ground_truth\")).then(1).otherwise(0).alias(\"targets\"))"
   ]
  },
  {
   "cell_type": "code",
   "execution_count": null,
   "metadata": {},
   "outputs": [
    {
     "name": "stdout",
     "output_type": "stream",
     "text": [
      "Number of CHIP hits in ATAC peaks 1511\n"
     ]
    },
    {
     "name": "stdout",
     "output_type": "stream",
     "text": [
      "Number of CHIP hits in ATAC peaks with probability >= threshold: 542\n",
      "Number of ATAC peaks with probability >= threshold: 4079\n",
      "Number of CHIP hits in ground truth: 1511\n",
      "Number of Negatives in ground truth: 51769\n"
     ]
    }
   ],
   "source": [
    "threshold = 0.99\n",
    "\n",
    "# get how many 1s in targets\n",
    "print(\"Number of CHIP hits in ATAC peaks\", df[\"targets\"].sum())\n",
    "# get ATAC peaks with probability >= threshold\n",
    "df_positive = df.filter(pl.col(\"probabilities\") >= threshold)\n",
    "# get number of 1s in targets\n",
    "print(\"Number of CHIP hits in ATAC peaks with probability >= threshold:\", df_positive[\"targets\"].sum())\n",
    "# get length of df_positive\n",
    "print(\"Number of ATAC peaks with probability >= threshold:\", len(df_positive))\n",
    "# get ground truth positives\n",
    "df_ground_truth_positive = df.filter(pl.col(\"targets\") == 1)\n",
    "print(\"Number of CHIP hits in ground truth:\", len(df_ground_truth_positive))\n",
    "# get ground truth negatives\n",
    "df_ground_truth_negative = df.filter(pl.col(\"targets\") == 0)\n",
    "print(\"Number of Negatives in ground truth:\", len(df_ground_truth_negative))\n"
   ]
  },
  {
   "cell_type": "code",
   "execution_count": 8,
   "metadata": {},
   "outputs": [
    {
     "name": "stdout",
     "output_type": "stream",
     "text": [
      "Precision: 0.1328757048296151\n",
      "Recall: 1.0\n",
      "F1 Score: 0.23458125946764768\n"
     ]
    }
   ],
   "source": [
    "# calculate precision, recall, f1 score\n",
    "precision = df_positive[\"targets\"].sum() / len(df_positive)\n",
    "recall = df_ground_truth_positive[\"targets\"].sum() / len(df_ground_truth_positive)\n",
    "f1_score = 2 * precision * recall / (precision + recall)\n",
    "print(\"Precision:\", precision)\n",
    "print(\"Recall:\", recall)\n",
    "print(\"F1 Score:\", f1_score)"
   ]
  },
  {
   "cell_type": "code",
   "execution_count": 9,
   "metadata": {},
   "outputs": [],
   "source": [
    "# new model\n",
    "\n",
    "# Number of CHIP hits in ATAC peaks 1511\n",
    "# Number of CHIP hits in ATAC peaks with probability >= threshold: 726\n",
    "# Number of ATAC peaks with probability >= threshold: 7881\n",
    "# Number of CHIP hits in ground truth: 1511\n",
    "# Number of Negatives in ground truth: 51769\n",
    "\n",
    "\n",
    "\n",
    "# old model\n",
    "# new model\n",
    "\n",
    "# Number of CHIP hits in ATAC peaks 1511\n",
    "# Number of CHIP hits in ATAC peaks with probability >= threshold: 726\n",
    "# Number of ATAC peaks with probability >= threshold: 7881\n",
    "# Number of CHIP hits in ground truth: 1511\n",
    "# Number of Negatives in ground truth: 51769\n",
    "\n"
   ]
  }
 ],
 "metadata": {
  "kernelspec": {
   "display_name": "processing",
   "language": "python",
   "name": "python3"
  },
  "language_info": {
   "codemirror_mode": {
    "name": "ipython",
    "version": 3
   },
   "file_extension": ".py",
   "mimetype": "text/x-python",
   "name": "python",
   "nbconvert_exporter": "python",
   "pygments_lexer": "ipython3",
   "version": "3.10.14"
  }
 },
 "nbformat": 4,
 "nbformat_minor": 2
}
