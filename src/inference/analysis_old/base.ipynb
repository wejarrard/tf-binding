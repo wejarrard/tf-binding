{
 "cells": [
  {
   "cell_type": "code",
   "execution_count": null,
   "metadata": {},
   "outputs": [],
   "source": [
    "import pyarrow as pa\n",
    "import os\n",
    "import sys\n",
    "import pandas as pd\n",
    "import numpy as np\n",
    "from pathlib import Path\n",
    "import polars as pl\n",
    "from typing import Union\n",
    "\n",
    "\n",
    "notebook_dir = os.path.dirname(os.path.abspath(\"__file__\"))\n",
    "sys.path.append(notebook_dir)\n",
    "from src.inference.aws_inference import process_jsonl_files\n",
    "\n",
    "\n",
    "project_path = \"/data1/datasets_1/human_cistrome/chip-atlas/peak_calls/tfbinding_scripts/tf-binding\"\n",
    "jaspar_file = \"/data1/datasets_1/human_cistrome/chip-atlas/peak_calls/tfbinding_scripts/tf-binding/src/inference/interpretability/motif.jaspar\"  # Update this path\n",
    "model = \"AR\"\n",
    "sample = \"LuCaP_78\"\n",
    "# ground_truth_file = \"/data1/datasets_1/human_prostate_PDX/processed/external_data/ChIP_atlas/AR/SRX8406456.05.bed\"\n",
    "# ground_truth_file = \"/data1/projects/human_cistrome/aligned_chip_data/merged_cell_lines/22Rv1/bam/22Rv1_merge.sorted.nodup.shifted.bam\"\n",
    "\n",
    "df = pl.read_parquet(project_path + \"/data/processed_results/\" + model + \"_\" + sample + \"_processed.parquet\")\n",
    "df = df.rename({\"chr_name\": \"chr\"})\n",
    "df\n"
   ]
  },
  {
   "cell_type": "code",
   "execution_count": null,
   "metadata": {},
   "outputs": [
    {
     "data": {
      "text/html": [
       "<div><style>\n",
       ".dataframe > thead > tr,\n",
       ".dataframe > tbody > tr {\n",
       "  text-align: right;\n",
       "  white-space: pre-wrap;\n",
       "}\n",
       "</style>\n",
       "<small>shape: (53_280, 4)</small><table border=\"1\" class=\"dataframe\"><thead><tr><th>chr</th><th>start</th><th>end</th><th>overlaps_ground_truth</th></tr><tr><td>str</td><td>i64</td><td>i64</td><td>bool</td></tr></thead><tbody><tr><td>&quot;chr5&quot;</td><td>10039</td><td>11783</td><td>true</td></tr><tr><td>&quot;chr2&quot;</td><td>739950</td><td>740882</td><td>false</td></tr><tr><td>&quot;chr10&quot;</td><td>10010</td><td>10428</td><td>true</td></tr><tr><td>&quot;chr21&quot;</td><td>46184427</td><td>46184968</td><td>false</td></tr><tr><td>&quot;chr12&quot;</td><td>133264943</td><td>133265299</td><td>true</td></tr><tr><td>&hellip;</td><td>&hellip;</td><td>&hellip;</td><td>&hellip;</td></tr><tr><td>&quot;chr17&quot;</td><td>8110181</td><td>8110532</td><td>false</td></tr><tr><td>&quot;chr16&quot;</td><td>2474208</td><td>2474999</td><td>false</td></tr><tr><td>&quot;chr3&quot;</td><td>171703978</td><td>171704435</td><td>false</td></tr><tr><td>&quot;chr7&quot;</td><td>101017134</td><td>101017572</td><td>false</td></tr><tr><td>&quot;chr3&quot;</td><td>129936816</td><td>129937071</td><td>false</td></tr></tbody></table></div>"
      ],
      "text/plain": [
       "shape: (53_280, 4)\n",
       "┌───────┬───────────┬───────────┬───────────────────────┐\n",
       "│ chr   ┆ start     ┆ end       ┆ overlaps_ground_truth │\n",
       "│ ---   ┆ ---       ┆ ---       ┆ ---                   │\n",
       "│ str   ┆ i64       ┆ i64       ┆ bool                  │\n",
       "╞═══════╪═══════════╪═══════════╪═══════════════════════╡\n",
       "│ chr5  ┆ 10039     ┆ 11783     ┆ true                  │\n",
       "│ chr2  ┆ 739950    ┆ 740882    ┆ false                 │\n",
       "│ chr10 ┆ 10010     ┆ 10428     ┆ true                  │\n",
       "│ chr21 ┆ 46184427  ┆ 46184968  ┆ false                 │\n",
       "│ chr12 ┆ 133264943 ┆ 133265299 ┆ true                  │\n",
       "│ …     ┆ …         ┆ …         ┆ …                     │\n",
       "│ chr17 ┆ 8110181   ┆ 8110532   ┆ false                 │\n",
       "│ chr16 ┆ 2474208   ┆ 2474999   ┆ false                 │\n",
       "│ chr3  ┆ 171703978 ┆ 171704435 ┆ false                 │\n",
       "│ chr7  ┆ 101017134 ┆ 101017572 ┆ false                 │\n",
       "│ chr3  ┆ 129936816 ┆ 129937071 ┆ false                 │\n",
       "└───────┴───────────┴───────────┴───────────────────────┘"
      ]
     },
     "execution_count": 2,
     "metadata": {},
     "output_type": "execute_result"
    }
   ],
   "source": [
    "import tempfile\n",
    "from src.utils.generate_training_peaks import run_bedtools_command\n",
    "def intersect_bed_files(main_df: pl.DataFrame, intersect_df: pl.DataFrame, region_type: str = None) -> pl.DataFrame:\n",
    "    \"\"\"\n",
    "    Intersect two BED files using bedtools and return the original DataFrame with overlap flags.\n",
    "    \n",
    "    Args:\n",
    "        main_df: Primary Polars DataFrame with BED data\n",
    "        intersect_df: Secondary Polars DataFrame to intersect with\n",
    "        region_type: Optional region type label to add to results\n",
    "        \n",
    "    Returns:\n",
    "        Original DataFrame with additional column indicating overlaps\n",
    "    \"\"\"\n",
    "    with tempfile.NamedTemporaryFile(delete=False, mode='w') as main_file, \\\n",
    "         tempfile.NamedTemporaryFile(delete=False, mode='w') as intersect_file, \\\n",
    "         tempfile.NamedTemporaryFile(delete=False, mode='w') as result_file:\n",
    "        \n",
    "        main_path = main_file.name\n",
    "        intersect_path = intersect_file.name\n",
    "        result_path = result_file.name\n",
    "\n",
    "        # Write DataFrames to temporary files\n",
    "        main_df.write_csv(main_path, separator=\"\\t\", include_header=False)\n",
    "        intersect_df.write_csv(intersect_path, separator=\"\\t\", include_header=False)\n",
    "\n",
    "        # Run bedtools intersect with -c flag to count overlaps\n",
    "        command = f\"bedtools intersect -a {main_path} -b {intersect_path} -c > {result_path}\"\n",
    "        run_bedtools_command(command)\n",
    "\n",
    "        # Read results back into Polars DataFrame\n",
    "        result_df = pl.read_csv(\n",
    "            result_path,\n",
    "            separator=\"\\t\",\n",
    "            has_header=False,\n",
    "            new_columns=[*main_df.columns, \"overlap_count\"]\n",
    "        )\n",
    "\n",
    "    # Clean up temporary files\n",
    "    os.remove(main_path)\n",
    "    os.remove(intersect_path) \n",
    "    os.remove(result_path)\n",
    "\n",
    "    # Add boolean overlap column\n",
    "    result_df = result_df.with_columns(\n",
    "        pl.col(\"overlap_count\").gt(0).alias(\"overlaps_ground_truth\")\n",
    "    ).drop(\"overlap_count\")\n",
    "\n",
    "    return result_df\n",
    "\n",
    "ground_truth_file = \"/data1/datasets_1/human_prostate_PDX/processed/external_data/ChIP_atlas/AR/SRX8406455.10.bed\"\n",
    "\n",
    "df_ground_truth = pl.read_csv(ground_truth_file, \n",
    "                             separator=\"\\t\", \n",
    "                             has_header=False,\n",
    "                             new_columns=[\"chr\", \"start\", \"end\"],\n",
    "                             columns=[0,1,2])\n",
    "\n",
    "intersected_df = intersect_bed_files(df[[\"chr\", \"start\", \"end\"]], df_ground_truth)\n",
    "\n",
    "\n",
    "\n",
    "\n",
    "intersected_df\n"
   ]
  },
  {
   "cell_type": "code",
   "execution_count": 3,
   "metadata": {},
   "outputs": [
    {
     "data": {
      "text/html": [
       "<div><style>\n",
       ".dataframe > thead > tr,\n",
       ".dataframe > tbody > tr {\n",
       "  text-align: right;\n",
       "  white-space: pre-wrap;\n",
       "}\n",
       "</style>\n",
       "<small>shape: (53_280, 11)</small><table border=\"1\" class=\"dataframe\"><thead><tr><th>chr</th><th>start</th><th>end</th><th>cell_line</th><th>targets</th><th>predicted</th><th>weights</th><th>probabilities</th><th>linear_512_output</th><th>attributions</th><th>overlaps_ground_truth</th></tr><tr><td>str</td><td>i64</td><td>i64</td><td>str</td><td>i32</td><td>f64</td><td>f64</td><td>f64</td><td>list[list[f64]]</td><td>list[list[f64]]</td><td>bool</td></tr></thead><tbody><tr><td>&quot;chr5&quot;</td><td>10039</td><td>11783</td><td>&quot;SRR12455442&quot;</td><td>1</td><td>1.0</td><td>-1.0</td><td>0.666859</td><td>[[0.584581, 0.677384, … -0.000385]]</td><td>[[-0.00093, 0.0, … 0.001799], [0.0, -0.00078, … 0.002326], … [0.0, 0.0, … 0.010341]]</td><td>true</td></tr><tr><td>&quot;chr2&quot;</td><td>739950</td><td>740882</td><td>&quot;SRR12455442&quot;</td><td>0</td><td>0.0</td><td>-1.0</td><td>0.069024</td><td>[[0.104039, 0.11396, … -2.424644]]</td><td>[[0.0, 0.0, … 0.000124], [0.0, 0.0, … 0.000094], … [0.0, 0.0, … 0.01256]]</td><td>false</td></tr><tr><td>&quot;chr10&quot;</td><td>10010</td><td>10428</td><td>&quot;SRR12455442&quot;</td><td>1</td><td>1.0</td><td>-1.0</td><td>0.702575</td><td>[[0.506404, 0.561959, … 0.109321]]</td><td>[[0.001685, 0.0, … -0.002936], [0.001869, 0.0, … -0.003507], … [0.0, 0.0, … 0.000278]]</td><td>true</td></tr><tr><td>&quot;chr21&quot;</td><td>46184427</td><td>46184968</td><td>&quot;SRR12455442&quot;</td><td>0</td><td>1.0</td><td>-1.0</td><td>0.554604</td><td>[[0.11399, 0.118262, … 0.11204]]</td><td>[[0.0, 0.0, … -0.00003], [0.0, 0.0, … 0.000005], … [0.0, 0.0, … -0.000189]]</td><td>false</td></tr><tr><td>&quot;chr12&quot;</td><td>133264943</td><td>133265299</td><td>&quot;SRR12455442&quot;</td><td>1</td><td>1.0</td><td>-1.0</td><td>0.686865</td><td>[[0.103133, 0.130933, … 0.188699]]</td><td>[[0.0, 0.0, … 0.000012], [0.000376, 0.0, … -0.000288], … [-0.006379, 0.0, … -0.000818]]</td><td>true</td></tr><tr><td>&hellip;</td><td>&hellip;</td><td>&hellip;</td><td>&hellip;</td><td>&hellip;</td><td>&hellip;</td><td>&hellip;</td><td>&hellip;</td><td>&hellip;</td><td>&hellip;</td><td>&hellip;</td></tr><tr><td>&quot;chr17&quot;</td><td>8110181</td><td>8110532</td><td>&quot;SRR12455442&quot;</td><td>0</td><td>0.0</td><td>-1.0</td><td>0.204443</td><td>[[-1.413845, -1.43306, … 0.104353]]</td><td>[[0.0, 0.0, … 0.042807], [0.0, 0.0, … 0.061726], … [0.0, 0.0, … -0.000001]]</td><td>false</td></tr><tr><td>&quot;chr16&quot;</td><td>2474208</td><td>2474999</td><td>&quot;SRR12455442&quot;</td><td>0</td><td>0.0</td><td>-1.0</td><td>0.498441</td><td>[[0.040351, 0.105451, … 0.097793]]</td><td>[[0.0, 0.0, … -0.000901], [0.0, 0.0, … -0.001582], … [0.0, 0.0, … 0.000171]]</td><td>false</td></tr><tr><td>&quot;chr3&quot;</td><td>171703978</td><td>171704435</td><td>&quot;SRR12455442&quot;</td><td>0</td><td>0.0</td><td>-1.0</td><td>0.100252</td><td>[[-1.576183, -1.940581, … 0.097735]]</td><td>[[0.0, 0.0, … -0.017684], [0.0, 0.0, … -0.017785], … [0.0, 0.0, … -0.002764]]</td><td>false</td></tr><tr><td>&quot;chr7&quot;</td><td>101017134</td><td>101017572</td><td>&quot;SRR12455442&quot;</td><td>0</td><td>0.0</td><td>-1.0</td><td>0.21604</td><td>[[-0.021217, 0.111424, … -1.994048]]</td><td>[[0.0, 0.0, … -0.00581], [0.0, 0.001947, … -0.006327], … [0.0, 0.0, … 0.022207]]</td><td>false</td></tr><tr><td>&quot;chr3&quot;</td><td>129936816</td><td>129937071</td><td>&quot;SRR12455442&quot;</td><td>0</td><td>1.0</td><td>-1.0</td><td>0.582369</td><td>[[0.099619, 0.120629, … 0.103959]]</td><td>[[0.0, 0.0, … -0.000018], [0.0, 0.0, … 0.000023], … [0.0, 0.0, … -0.000003]]</td><td>false</td></tr></tbody></table></div>"
      ],
      "text/plain": [
       "shape: (53_280, 11)\n",
       "┌───────┬───────────┬───────────┬────────────┬───┬────────────┬────────────┬───────────┬───────────┐\n",
       "│ chr   ┆ start     ┆ end       ┆ cell_line  ┆ … ┆ probabilit ┆ linear_512 ┆ attributi ┆ overlaps_ │\n",
       "│ ---   ┆ ---       ┆ ---       ┆ ---        ┆   ┆ ies        ┆ _output    ┆ ons       ┆ ground_tr │\n",
       "│ str   ┆ i64       ┆ i64       ┆ str        ┆   ┆ ---        ┆ ---        ┆ ---       ┆ uth       │\n",
       "│       ┆           ┆           ┆            ┆   ┆ f64        ┆ list[list[ ┆ list[list ┆ ---       │\n",
       "│       ┆           ┆           ┆            ┆   ┆            ┆ f64]]      ┆ [f64]]    ┆ bool      │\n",
       "╞═══════╪═══════════╪═══════════╪════════════╪═══╪════════════╪════════════╪═══════════╪═══════════╡\n",
       "│ chr5  ┆ 10039     ┆ 11783     ┆ SRR1245544 ┆ … ┆ 0.666859   ┆ [[0.584581 ┆ [[-0.0009 ┆ true      │\n",
       "│       ┆           ┆           ┆ 2          ┆   ┆            ┆ ,          ┆ 3, 0.0, … ┆           │\n",
       "│       ┆           ┆           ┆            ┆   ┆            ┆ 0.677384,  ┆ 0.001799] ┆           │\n",
       "│       ┆           ┆           ┆            ┆   ┆            ┆ … -0.000…  ┆ , …       ┆           │\n",
       "│ chr2  ┆ 739950    ┆ 740882    ┆ SRR1245544 ┆ … ┆ 0.069024   ┆ [[0.104039 ┆ [[0.0,    ┆ false     │\n",
       "│       ┆           ┆           ┆ 2          ┆   ┆            ┆ , 0.11396, ┆ 0.0, …    ┆           │\n",
       "│       ┆           ┆           ┆            ┆   ┆            ┆ … -2.4246… ┆ 0.000124] ┆           │\n",
       "│       ┆           ┆           ┆            ┆   ┆            ┆            ┆ , [0.0,…  ┆           │\n",
       "│ chr10 ┆ 10010     ┆ 10428     ┆ SRR1245544 ┆ … ┆ 0.702575   ┆ [[0.506404 ┆ [[0.00168 ┆ true      │\n",
       "│       ┆           ┆           ┆ 2          ┆   ┆            ┆ ,          ┆ 5, 0.0, … ┆           │\n",
       "│       ┆           ┆           ┆            ┆   ┆            ┆ 0.561959,  ┆ -0.002936 ┆           │\n",
       "│       ┆           ┆           ┆            ┆   ┆            ┆ … 0.1093…  ┆ ],…       ┆           │\n",
       "│ chr21 ┆ 46184427  ┆ 46184968  ┆ SRR1245544 ┆ … ┆ 0.554604   ┆ [[0.11399, ┆ [[0.0,    ┆ false     │\n",
       "│       ┆           ┆           ┆ 2          ┆   ┆            ┆ 0.118262,  ┆ 0.0, …    ┆           │\n",
       "│       ┆           ┆           ┆            ┆   ┆            ┆ … 0.11204… ┆ -0.00003] ┆           │\n",
       "│       ┆           ┆           ┆            ┆   ┆            ┆            ┆ , [0.0,…  ┆           │\n",
       "│ chr12 ┆ 133264943 ┆ 133265299 ┆ SRR1245544 ┆ … ┆ 0.686865   ┆ [[0.103133 ┆ [[0.0,    ┆ true      │\n",
       "│       ┆           ┆           ┆ 2          ┆   ┆            ┆ ,          ┆ 0.0, …    ┆           │\n",
       "│       ┆           ┆           ┆            ┆   ┆            ┆ 0.130933,  ┆ 0.000012] ┆           │\n",
       "│       ┆           ┆           ┆            ┆   ┆            ┆ … 0.1886…  ┆ , [0.00…  ┆           │\n",
       "│ …     ┆ …         ┆ …         ┆ …          ┆ … ┆ …          ┆ …          ┆ …         ┆ …         │\n",
       "│ chr17 ┆ 8110181   ┆ 8110532   ┆ SRR1245544 ┆ … ┆ 0.204443   ┆ [[-1.41384 ┆ [[0.0,    ┆ false     │\n",
       "│       ┆           ┆           ┆ 2          ┆   ┆            ┆ 5,         ┆ 0.0, …    ┆           │\n",
       "│       ┆           ┆           ┆            ┆   ┆            ┆ -1.43306,  ┆ 0.042807] ┆           │\n",
       "│       ┆           ┆           ┆            ┆   ┆            ┆ … 0.104…   ┆ , [0.0,…  ┆           │\n",
       "│ chr16 ┆ 2474208   ┆ 2474999   ┆ SRR1245544 ┆ … ┆ 0.498441   ┆ [[0.040351 ┆ [[0.0,    ┆ false     │\n",
       "│       ┆           ┆           ┆ 2          ┆   ┆            ┆ ,          ┆ 0.0, …    ┆           │\n",
       "│       ┆           ┆           ┆            ┆   ┆            ┆ 0.105451,  ┆ -0.000901 ┆           │\n",
       "│       ┆           ┆           ┆            ┆   ┆            ┆ … 0.0977…  ┆ ], [0.0…  ┆           │\n",
       "│ chr3  ┆ 171703978 ┆ 171704435 ┆ SRR1245544 ┆ … ┆ 0.100252   ┆ [[-1.57618 ┆ [[0.0,    ┆ false     │\n",
       "│       ┆           ┆           ┆ 2          ┆   ┆            ┆ 3,         ┆ 0.0, …    ┆           │\n",
       "│       ┆           ┆           ┆            ┆   ┆            ┆ -1.940581, ┆ -0.017684 ┆           │\n",
       "│       ┆           ┆           ┆            ┆   ┆            ┆ … 0.09…    ┆ ], [0.0…  ┆           │\n",
       "│ chr7  ┆ 101017134 ┆ 101017572 ┆ SRR1245544 ┆ … ┆ 0.21604    ┆ [[-0.02121 ┆ [[0.0,    ┆ false     │\n",
       "│       ┆           ┆           ┆ 2          ┆   ┆            ┆ 7,         ┆ 0.0, …    ┆           │\n",
       "│       ┆           ┆           ┆            ┆   ┆            ┆ 0.111424,  ┆ -0.00581] ┆           │\n",
       "│       ┆           ┆           ┆            ┆   ┆            ┆ … -1.99…   ┆ , [0.0,…  ┆           │\n",
       "│ chr3  ┆ 129936816 ┆ 129937071 ┆ SRR1245544 ┆ … ┆ 0.582369   ┆ [[0.099619 ┆ [[0.0,    ┆ false     │\n",
       "│       ┆           ┆           ┆ 2          ┆   ┆            ┆ ,          ┆ 0.0, …    ┆           │\n",
       "│       ┆           ┆           ┆            ┆   ┆            ┆ 0.120629,  ┆ -0.000018 ┆           │\n",
       "│       ┆           ┆           ┆            ┆   ┆            ┆ … 0.1039…  ┆ ], [0.0…  ┆           │\n",
       "└───────┴───────────┴───────────┴────────────┴───┴────────────┴────────────┴───────────┴───────────┘"
      ]
     },
     "execution_count": 3,
     "metadata": {},
     "output_type": "execute_result"
    }
   ],
   "source": [
    "# add overlaps ground truth to df from intersected_df\n",
    "ground_truth_df = df.join(intersected_df, on=[\"chr\", \"start\", \"end\"], how=\"left\")\n",
    "# add overlaps_ground_truth to df under targets, 1 if overlaps_ground_truth is true, 0 otherwise\n",
    "ground_truth_df = ground_truth_df.with_columns(pl.when(pl.col(\"overlaps_ground_truth\")).then(1).otherwise(0).alias(\"targets\"))\n",
    "ground_truth_df"
   ]
  },
  {
   "cell_type": "code",
   "execution_count": null,
   "metadata": {},
   "outputs": [
    {
     "name": "stdout",
     "output_type": "stream",
     "text": [
      "Number of CHIP hits in ATAC peaks 1511\n",
      "Number of predicted in df_targets_1 163.0\n"
     ]
    }
   ],
   "source": [
    "# get number of targets == predicted vs not predicted   \n",
    "# get dataframe whre targets == 1\n",
    "df_targets_1 = ground_truth_df.filter(pl.col(\"targets\") == 1)\n",
    "# get number of 1s in targets\n",
    "print(\"Number of CHIP hits in ATAC peaks\", df_targets_1[\"targets\"].sum())\n",
    "# get number of predicted in df_targets_1\n",
    "print(\"Number of predicted in df_targets_1\", df_targets_1[\"predicted\"].sum())"
   ]
  },
  {
   "cell_type": "code",
   "execution_count": 20,
   "metadata": {},
   "outputs": [
    {
     "name": "stdout",
     "output_type": "stream",
     "text": [
      "Number of CHIP hits in ATAC peaks 1511\n",
      "Number of CHIP hits in ATAC peaks with probability >= threshold: 163\n",
      "Number of ATAC peaks with probability >= threshold: 5727\n",
      "Number of CHIP hits in ground truth: 1511\n",
      "Number of Negatives in ground truth: 51769\n"
     ]
    }
   ],
   "source": [
    "threshold = 0.5\n",
    "\n",
    "# get how many 1s in targets\n",
    "print(\"Number of CHIP hits in ATAC peaks\", df[\"targets\"].sum())\n",
    "# get ATAC peaks with probability >= threshold\n",
    "df_positive = ground_truth_df.filter(pl.col(\"probabilities\") >= threshold)\n",
    "# get number of 1s in targets\n",
    "print(\"Number of CHIP hits in ATAC peaks with probability >= threshold:\", df_positive[\"targets\"].sum())\n",
    "# get length of df_positive\n",
    "print(\"Number of ATAC peaks with probability >= threshold:\", len(df_positive))\n",
    "# get ground truth positives\n",
    "df_ground_truth_positive = df.filter(pl.col(\"targets\") == 1)\n",
    "print(\"Number of CHIP hits in ground truth:\", len(df_ground_truth_positive))\n",
    "# get ground truth negatives\n",
    "df_ground_truth_negative = df.filter(pl.col(\"targets\") == 0)\n",
    "print(\"Number of Negatives in ground truth:\", len(df_ground_truth_negative))\n"
   ]
  },
  {
   "cell_type": "code",
   "execution_count": 4,
   "metadata": {},
   "outputs": [
    {
     "name": "stdout",
     "output_type": "stream",
     "text": [
      "Precision: 0.0\n",
      "Recall: 1.0\n",
      "F1 Score: 0.0\n"
     ]
    }
   ],
   "source": [
    "# calculate precision, recall, f1 score\n",
    "precision = df_positive[\"targets\"].sum() / len(df_positive)\n",
    "recall = df_ground_truth_positive[\"targets\"].sum() / len(df_ground_truth_positive)\n",
    "f1_score = 2 * precision * recall / (precision + recall)\n",
    "print(\"Precision:\", precision)\n",
    "print(\"Recall:\", recall)\n",
    "print(\"F1 Score:\", f1_score)"
   ]
  },
  {
   "cell_type": "code",
   "execution_count": 5,
   "metadata": {},
   "outputs": [
    {
     "ename": "ValueError",
     "evalue": "Found input variables with inconsistent numbers of samples: [3625, 1]",
     "output_type": "error",
     "traceback": [
      "\u001b[0;31m---------------------------------------------------------------------------\u001b[0m",
      "\u001b[0;31mValueError\u001b[0m                                Traceback (most recent call last)",
      "Cell \u001b[0;32mIn[5], line 6\u001b[0m\n\u001b[1;32m      3\u001b[0m \u001b[38;5;28;01mimport\u001b[39;00m \u001b[38;5;21;01mmatplotlib\u001b[39;00m\u001b[38;5;21;01m.\u001b[39;00m\u001b[38;5;21;01mpyplot\u001b[39;00m \u001b[38;5;28;01mas\u001b[39;00m \u001b[38;5;21;01mplt\u001b[39;00m\n\u001b[1;32m      5\u001b[0m \u001b[38;5;66;03m# Calculate precision and recall values\u001b[39;00m\n\u001b[0;32m----> 6\u001b[0m precision, recall, thresholds \u001b[38;5;241m=\u001b[39m \u001b[43mprecision_recall_curve\u001b[49m\u001b[43m(\u001b[49m\u001b[43mdf_ground_truth_positive\u001b[49m\u001b[43m[\u001b[49m\u001b[38;5;124;43m\"\u001b[39;49m\u001b[38;5;124;43mtargets\u001b[39;49m\u001b[38;5;124;43m\"\u001b[39;49m\u001b[43m]\u001b[49m\u001b[43m,\u001b[49m\u001b[43m \u001b[49m\u001b[43mdf_positive\u001b[49m\u001b[43m[\u001b[49m\u001b[38;5;124;43m\"\u001b[39;49m\u001b[38;5;124;43mprobabilities\u001b[39;49m\u001b[38;5;124;43m\"\u001b[39;49m\u001b[43m]\u001b[49m\u001b[43m)\u001b[49m\n\u001b[1;32m      8\u001b[0m \u001b[38;5;66;03m# plot precision recall curve\u001b[39;00m\n\u001b[1;32m      9\u001b[0m plt\u001b[38;5;241m.\u001b[39mfigure(figsize\u001b[38;5;241m=\u001b[39m(\u001b[38;5;241m10\u001b[39m, \u001b[38;5;241m5\u001b[39m))\n",
      "File \u001b[0;32m~/miniconda3/envs/processing/lib/python3.10/site-packages/sklearn/utils/_param_validation.py:213\u001b[0m, in \u001b[0;36mvalidate_params.<locals>.decorator.<locals>.wrapper\u001b[0;34m(*args, **kwargs)\u001b[0m\n\u001b[1;32m    207\u001b[0m \u001b[38;5;28;01mtry\u001b[39;00m:\n\u001b[1;32m    208\u001b[0m     \u001b[38;5;28;01mwith\u001b[39;00m config_context(\n\u001b[1;32m    209\u001b[0m         skip_parameter_validation\u001b[38;5;241m=\u001b[39m(\n\u001b[1;32m    210\u001b[0m             prefer_skip_nested_validation \u001b[38;5;129;01mor\u001b[39;00m global_skip_validation\n\u001b[1;32m    211\u001b[0m         )\n\u001b[1;32m    212\u001b[0m     ):\n\u001b[0;32m--> 213\u001b[0m         \u001b[38;5;28;01mreturn\u001b[39;00m \u001b[43mfunc\u001b[49m\u001b[43m(\u001b[49m\u001b[38;5;241;43m*\u001b[39;49m\u001b[43margs\u001b[49m\u001b[43m,\u001b[49m\u001b[43m \u001b[49m\u001b[38;5;241;43m*\u001b[39;49m\u001b[38;5;241;43m*\u001b[39;49m\u001b[43mkwargs\u001b[49m\u001b[43m)\u001b[49m\n\u001b[1;32m    214\u001b[0m \u001b[38;5;28;01mexcept\u001b[39;00m InvalidParameterError \u001b[38;5;28;01mas\u001b[39;00m e:\n\u001b[1;32m    215\u001b[0m     \u001b[38;5;66;03m# When the function is just a wrapper around an estimator, we allow\u001b[39;00m\n\u001b[1;32m    216\u001b[0m     \u001b[38;5;66;03m# the function to delegate validation to the estimator, but we replace\u001b[39;00m\n\u001b[1;32m    217\u001b[0m     \u001b[38;5;66;03m# the name of the estimator by the name of the function in the error\u001b[39;00m\n\u001b[1;32m    218\u001b[0m     \u001b[38;5;66;03m# message to avoid confusion.\u001b[39;00m\n\u001b[1;32m    219\u001b[0m     msg \u001b[38;5;241m=\u001b[39m re\u001b[38;5;241m.\u001b[39msub(\n\u001b[1;32m    220\u001b[0m         \u001b[38;5;124mr\u001b[39m\u001b[38;5;124m\"\u001b[39m\u001b[38;5;124mparameter of \u001b[39m\u001b[38;5;124m\\\u001b[39m\u001b[38;5;124mw+ must be\u001b[39m\u001b[38;5;124m\"\u001b[39m,\n\u001b[1;32m    221\u001b[0m         \u001b[38;5;124mf\u001b[39m\u001b[38;5;124m\"\u001b[39m\u001b[38;5;124mparameter of \u001b[39m\u001b[38;5;132;01m{\u001b[39;00mfunc\u001b[38;5;241m.\u001b[39m\u001b[38;5;18m__qualname__\u001b[39m\u001b[38;5;132;01m}\u001b[39;00m\u001b[38;5;124m must be\u001b[39m\u001b[38;5;124m\"\u001b[39m,\n\u001b[1;32m    222\u001b[0m         \u001b[38;5;28mstr\u001b[39m(e),\n\u001b[1;32m    223\u001b[0m     )\n",
      "File \u001b[0;32m~/miniconda3/envs/processing/lib/python3.10/site-packages/sklearn/metrics/_ranking.py:1002\u001b[0m, in \u001b[0;36mprecision_recall_curve\u001b[0;34m(y_true, y_score, pos_label, sample_weight, drop_intermediate, probas_pred)\u001b[0m\n\u001b[1;32m    993\u001b[0m     warnings\u001b[38;5;241m.\u001b[39mwarn(\n\u001b[1;32m    994\u001b[0m         (\n\u001b[1;32m    995\u001b[0m             \u001b[38;5;124m\"\u001b[39m\u001b[38;5;124mprobas_pred was deprecated in version 1.5 and will be removed in 1.7.\u001b[39m\u001b[38;5;124m\"\u001b[39m\n\u001b[0;32m   (...)\u001b[0m\n\u001b[1;32m    998\u001b[0m         \u001b[38;5;167;01mFutureWarning\u001b[39;00m,\n\u001b[1;32m    999\u001b[0m     )\n\u001b[1;32m   1000\u001b[0m     y_score \u001b[38;5;241m=\u001b[39m probas_pred\n\u001b[0;32m-> 1002\u001b[0m fps, tps, thresholds \u001b[38;5;241m=\u001b[39m \u001b[43m_binary_clf_curve\u001b[49m\u001b[43m(\u001b[49m\n\u001b[1;32m   1003\u001b[0m \u001b[43m    \u001b[49m\u001b[43my_true\u001b[49m\u001b[43m,\u001b[49m\u001b[43m \u001b[49m\u001b[43my_score\u001b[49m\u001b[43m,\u001b[49m\u001b[43m \u001b[49m\u001b[43mpos_label\u001b[49m\u001b[38;5;241;43m=\u001b[39;49m\u001b[43mpos_label\u001b[49m\u001b[43m,\u001b[49m\u001b[43m \u001b[49m\u001b[43msample_weight\u001b[49m\u001b[38;5;241;43m=\u001b[39;49m\u001b[43msample_weight\u001b[49m\n\u001b[1;32m   1004\u001b[0m \u001b[43m\u001b[49m\u001b[43m)\u001b[49m\n\u001b[1;32m   1006\u001b[0m \u001b[38;5;28;01mif\u001b[39;00m drop_intermediate \u001b[38;5;129;01mand\u001b[39;00m \u001b[38;5;28mlen\u001b[39m(fps) \u001b[38;5;241m>\u001b[39m \u001b[38;5;241m2\u001b[39m:\n\u001b[1;32m   1007\u001b[0m     \u001b[38;5;66;03m# Drop thresholds corresponding to points where true positives (tps)\u001b[39;00m\n\u001b[1;32m   1008\u001b[0m     \u001b[38;5;66;03m# do not change from the previous or subsequent point. This will keep\u001b[39;00m\n\u001b[1;32m   1009\u001b[0m     \u001b[38;5;66;03m# only the first and last point for each tps value. All points\u001b[39;00m\n\u001b[1;32m   1010\u001b[0m     \u001b[38;5;66;03m# with the same tps value have the same recall and thus x coordinate.\u001b[39;00m\n\u001b[1;32m   1011\u001b[0m     \u001b[38;5;66;03m# They appear as a vertical line on the plot.\u001b[39;00m\n\u001b[1;32m   1012\u001b[0m     optimal_idxs \u001b[38;5;241m=\u001b[39m np\u001b[38;5;241m.\u001b[39mwhere(\n\u001b[1;32m   1013\u001b[0m         np\u001b[38;5;241m.\u001b[39mconcatenate(\n\u001b[1;32m   1014\u001b[0m             [[\u001b[38;5;28;01mTrue\u001b[39;00m], np\u001b[38;5;241m.\u001b[39mlogical_or(np\u001b[38;5;241m.\u001b[39mdiff(tps[:\u001b[38;5;241m-\u001b[39m\u001b[38;5;241m1\u001b[39m]), np\u001b[38;5;241m.\u001b[39mdiff(tps[\u001b[38;5;241m1\u001b[39m:])), [\u001b[38;5;28;01mTrue\u001b[39;00m]]\n\u001b[1;32m   1015\u001b[0m         )\n\u001b[1;32m   1016\u001b[0m     )[\u001b[38;5;241m0\u001b[39m]\n",
      "File \u001b[0;32m~/miniconda3/envs/processing/lib/python3.10/site-packages/sklearn/metrics/_ranking.py:819\u001b[0m, in \u001b[0;36m_binary_clf_curve\u001b[0;34m(y_true, y_score, pos_label, sample_weight)\u001b[0m\n\u001b[1;32m    816\u001b[0m \u001b[38;5;28;01mif\u001b[39;00m \u001b[38;5;129;01mnot\u001b[39;00m (y_type \u001b[38;5;241m==\u001b[39m \u001b[38;5;124m\"\u001b[39m\u001b[38;5;124mbinary\u001b[39m\u001b[38;5;124m\"\u001b[39m \u001b[38;5;129;01mor\u001b[39;00m (y_type \u001b[38;5;241m==\u001b[39m \u001b[38;5;124m\"\u001b[39m\u001b[38;5;124mmulticlass\u001b[39m\u001b[38;5;124m\"\u001b[39m \u001b[38;5;129;01mand\u001b[39;00m pos_label \u001b[38;5;129;01mis\u001b[39;00m \u001b[38;5;129;01mnot\u001b[39;00m \u001b[38;5;28;01mNone\u001b[39;00m)):\n\u001b[1;32m    817\u001b[0m     \u001b[38;5;28;01mraise\u001b[39;00m \u001b[38;5;167;01mValueError\u001b[39;00m(\u001b[38;5;124m\"\u001b[39m\u001b[38;5;132;01m{0}\u001b[39;00m\u001b[38;5;124m format is not supported\u001b[39m\u001b[38;5;124m\"\u001b[39m\u001b[38;5;241m.\u001b[39mformat(y_type))\n\u001b[0;32m--> 819\u001b[0m \u001b[43mcheck_consistent_length\u001b[49m\u001b[43m(\u001b[49m\u001b[43my_true\u001b[49m\u001b[43m,\u001b[49m\u001b[43m \u001b[49m\u001b[43my_score\u001b[49m\u001b[43m,\u001b[49m\u001b[43m \u001b[49m\u001b[43msample_weight\u001b[49m\u001b[43m)\u001b[49m\n\u001b[1;32m    820\u001b[0m y_true \u001b[38;5;241m=\u001b[39m column_or_1d(y_true)\n\u001b[1;32m    821\u001b[0m y_score \u001b[38;5;241m=\u001b[39m column_or_1d(y_score)\n",
      "File \u001b[0;32m~/miniconda3/envs/processing/lib/python3.10/site-packages/sklearn/utils/validation.py:460\u001b[0m, in \u001b[0;36mcheck_consistent_length\u001b[0;34m(*arrays)\u001b[0m\n\u001b[1;32m    458\u001b[0m uniques \u001b[38;5;241m=\u001b[39m np\u001b[38;5;241m.\u001b[39munique(lengths)\n\u001b[1;32m    459\u001b[0m \u001b[38;5;28;01mif\u001b[39;00m \u001b[38;5;28mlen\u001b[39m(uniques) \u001b[38;5;241m>\u001b[39m \u001b[38;5;241m1\u001b[39m:\n\u001b[0;32m--> 460\u001b[0m     \u001b[38;5;28;01mraise\u001b[39;00m \u001b[38;5;167;01mValueError\u001b[39;00m(\n\u001b[1;32m    461\u001b[0m         \u001b[38;5;124m\"\u001b[39m\u001b[38;5;124mFound input variables with inconsistent numbers of samples: \u001b[39m\u001b[38;5;132;01m%r\u001b[39;00m\u001b[38;5;124m\"\u001b[39m\n\u001b[1;32m    462\u001b[0m         \u001b[38;5;241m%\u001b[39m [\u001b[38;5;28mint\u001b[39m(l) \u001b[38;5;28;01mfor\u001b[39;00m l \u001b[38;5;129;01min\u001b[39;00m lengths]\n\u001b[1;32m    463\u001b[0m     )\n",
      "\u001b[0;31mValueError\u001b[0m: Found input variables with inconsistent numbers of samples: [3625, 1]"
     ]
    }
   ],
   "source": [
    "# generate precision recall curve\n",
    "from sklearn.metrics import precision_recall_curve\n",
    "import matplotlib.pyplot as plt\n",
    "\n",
    "# Calculate precision and recall values\n",
    "precision, recall, thresholds = precision_recall_curve(df_ground_truth_positive[\"targets\"], df_positive[\"probabilities\"])\n",
    "\n",
    "# plot precision recall curve\n",
    "plt.figure(figsize=(10, 5))\n",
    "plt.plot(recall, precision, marker='o')\n",
    "plt.xlabel('Recall')\n",
    "plt.ylabel('Precision')\n",
    "plt.title('Precision-Recall Curve')\n",
    "plt.show()"
   ]
  },
  {
   "cell_type": "code",
   "execution_count": 9,
   "metadata": {},
   "outputs": [],
   "source": [
    "# new model\n",
    "\n",
    "# Number of CHIP hits in ATAC peaks 1511\n",
    "# Number of CHIP hits in ATAC peaks with probability >= threshold: 726\n",
    "# Number of ATAC peaks with probability >= threshold: 7881\n",
    "# Number of CHIP hits in ground truth: 1511\n",
    "# Number of Negatives in ground truth: 51769\n",
    "\n",
    "\n",
    "\n",
    "# old model\n",
    "# new model\n",
    "\n",
    "# Number of CHIP hits in ATAC peaks 1511\n",
    "# Number of CHIP hits in ATAC peaks with probability >= threshold: 726\n",
    "# Number of ATAC peaks with probability >= threshold: 7881\n",
    "# Number of CHIP hits in ground truth: 1511\n",
    "# Number of Negatives in ground truth: 51769\n",
    "\n",
    "\n",
    "\n"
   ]
  }
 ],
 "metadata": {
  "kernelspec": {
   "display_name": "processing",
   "language": "python",
   "name": "python3"
  },
  "language_info": {
   "codemirror_mode": {
    "name": "ipython",
    "version": 3
   },
   "file_extension": ".py",
   "mimetype": "text/x-python",
   "name": "python",
   "nbconvert_exporter": "python",
   "pygments_lexer": "ipython3",
   "version": "3.10.14"
  }
 },
 "nbformat": 4,
 "nbformat_minor": 2
}
