{
 "cells": [
  {
   "cell_type": "code",
   "execution_count": 2,
   "metadata": {},
   "outputs": [
    {
     "name": "stderr",
     "output_type": "stream",
     "text": [
      "INFO:sagemaker.image_uris:image_uri is not presented, retrieving image_uri based on instance_type, framework etc.\n",
      "INFO:sagemaker:Creating training-job with name: pretraining-2025-03-26-17-21-46-478\n"
     ]
    }
   ],
   "source": [
    "# Distributed\n",
    "import sagemaker\n",
    "from sagemaker.pytorch import PyTorch\n",
    "from sagemaker.debugger import TensorBoardOutputConfig\n",
    "from sagemaker import Session\n",
    "\n",
    "\n",
    "role = \"arn:aws:iam::016114370410:role/tf-binding-sites\"\n",
    "sagemaker_session = Session()\n",
    "\n",
    "training_data_s3_path = \"s3://tf-binding-sites/pretraining/data/\"\n",
    "\n",
    "\n",
    "# Distributed training setup\n",
    "distribution = {\"pytorchddp\": {\"enabled\": \"true\"}}\n",
    "\n",
    "estimator = PyTorch(\n",
    "    base_job_name=\"pretraining\",\n",
    "    entry_point=\"pretrain.py\",\n",
    "    model_dir='/opt/ml/model',\n",
    "    source_dir=\"/data1/datasets_1/human_cistrome/chip-atlas/peak_calls/tfbinding_scripts/tf-binding/src/training/pretraining\",\n",
    "    output_path=\"s3://tf-binding-sites/pretraining/output\",\n",
    "    role=role,\n",
    "    py_version=\"py310\",\n",
    "    framework_version='2.0.0',\n",
    "    volume_size=800,\n",
    "    max_run=1209600,\n",
    "    instance_count=3,\n",
    "    instance_type='ml.g5.12xlarge',\n",
    "    hyperparameters={\n",
    "        'learning-rate': 1e-4\n",
    "    },\n",
    "    distribution=distribution,\n",
    "    sagemaker_session=sagemaker_session\n",
    ")\n",
    "\n",
    "estimator.fit({'training': training_data_s3_path}, wait=False)"
   ]
  },
  {
   "cell_type": "code",
   "execution_count": null,
   "metadata": {},
   "outputs": [],
   "source": []
  }
 ],
 "metadata": {
  "kernelspec": {
   "display_name": "processing",
   "language": "python",
   "name": "python3"
  },
  "language_info": {
   "codemirror_mode": {
    "name": "ipython",
    "version": 3
   },
   "file_extension": ".py",
   "mimetype": "text/x-python",
   "name": "python",
   "nbconvert_exporter": "python",
   "pygments_lexer": "ipython3",
   "version": "3.10.14"
  }
 },
 "nbformat": 4,
 "nbformat_minor": 2
}
