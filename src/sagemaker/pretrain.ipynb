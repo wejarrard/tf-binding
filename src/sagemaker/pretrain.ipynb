{
 "cells": [
  {
   "cell_type": "code",
   "execution_count": null,
   "metadata": {},
   "outputs": [],
   "source": [
    "# Single GPU\n",
    "import sagemaker\n",
    "from sagemaker.pytorch import PyTorch\n",
    "from sagemaker.debugger import TensorBoardOutputConfig\n",
    "\n",
    "role = sagemaker.get_execution_role()\n",
    "sess = sagemaker.Session(default_bucket=\"tf-binding-sites\")\n",
    "\n",
    "training_data_s3_path = \"s3://tf-binding-sites/pretraining/data/\"\n",
    "output_s3_path = \"s3://tf-binding-sites/pretraining/models/results\"\n",
    "\n",
    "tensorboard_output_config = TensorBoardOutputConfig(\n",
    "    s3_output_path=\"s3://tf-binding-sites/pretraining/models/results/tensorboard\",\n",
    "    container_local_output_path=\"/opt/ml/output/tensorboard\"\n",
    ")\n",
    "\n",
    "\n",
    "estimator = PyTorch(\n",
    "    base_job_name=\"pretraining\",\n",
    "    entry_point=\"pretrain.py\",\n",
    "    source_dir=\"../training\",  # Directory containing training script and other files\n",
    "    output_path=output_s3_path,\n",
    "    code_location=\"s3://tf-binding-sites/pretraining/models/results/code\",\n",
    "    role=role,\n",
    "    py_version=\"py310\",\n",
    "    framework_version='2.0.0',\n",
    "    volume_size=600, \n",
    "    instance_count=1,\n",
    "    instance_type='ml.g5.8xlarge',\n",
    "    hyperparameters={\n",
    "        'learning-rate': 1e-5\n",
    "    },\n",
    "    tensorboard_output_config=tensorboard_output_config,\n",
    ")\n",
    "\n",
    "estimator.fit({'training': training_data_s3_path}, wait=False)\n",
    "\n"
   ]
  }
 ],
 "metadata": {
  "language_info": {
   "name": "python"
  }
 },
 "nbformat": 4,
 "nbformat_minor": 2
}
